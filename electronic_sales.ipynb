{
 "cells": [
  {
   "cell_type": "markdown",
   "metadata": {},
   "source": [
    "### Importing libraries "
   ]
  },
  {
   "cell_type": "code",
   "execution_count": 1,
   "metadata": {},
   "outputs": [],
   "source": [
    "import pandas as pd\n",
    "import numpy as np\n",
    "import matplotlib.pyplot as plt\n"
   ]
  },
  {
   "cell_type": "markdown",
   "metadata": {},
   "source": [
    "### Data cleaning"
   ]
  },
  {
   "cell_type": "code",
   "execution_count": 9,
   "metadata": {},
   "outputs": [
    {
     "data": {
      "text/html": [
       "<div>\n",
       "<style scoped>\n",
       "    .dataframe tbody tr th:only-of-type {\n",
       "        vertical-align: middle;\n",
       "    }\n",
       "\n",
       "    .dataframe tbody tr th {\n",
       "        vertical-align: top;\n",
       "    }\n",
       "\n",
       "    .dataframe thead th {\n",
       "        text-align: right;\n",
       "    }\n",
       "</style>\n",
       "<table border=\"1\" class=\"dataframe\">\n",
       "  <thead>\n",
       "    <tr style=\"text-align: right;\">\n",
       "      <th></th>\n",
       "      <th>Order ID</th>\n",
       "      <th>Product</th>\n",
       "      <th>Quantity Ordered</th>\n",
       "      <th>Price Each</th>\n",
       "      <th>Order Date</th>\n",
       "      <th>Purchase Address</th>\n",
       "    </tr>\n",
       "  </thead>\n",
       "  <tbody>\n",
       "    <tr>\n",
       "      <th>0</th>\n",
       "      <td>176558</td>\n",
       "      <td>USB-C Charging Cable</td>\n",
       "      <td>2</td>\n",
       "      <td>11.95</td>\n",
       "      <td>04/19/19 08:46</td>\n",
       "      <td>917 1st St, Dallas, TX 75001</td>\n",
       "    </tr>\n",
       "    <tr>\n",
       "      <th>1</th>\n",
       "      <td>NaN</td>\n",
       "      <td>NaN</td>\n",
       "      <td>NaN</td>\n",
       "      <td>NaN</td>\n",
       "      <td>NaN</td>\n",
       "      <td>NaN</td>\n",
       "    </tr>\n",
       "    <tr>\n",
       "      <th>2</th>\n",
       "      <td>176559</td>\n",
       "      <td>Bose SoundSport Headphones</td>\n",
       "      <td>1</td>\n",
       "      <td>99.99</td>\n",
       "      <td>04/07/19 22:30</td>\n",
       "      <td>682 Chestnut St, Boston, MA 02215</td>\n",
       "    </tr>\n",
       "    <tr>\n",
       "      <th>3</th>\n",
       "      <td>176560</td>\n",
       "      <td>Google Phone</td>\n",
       "      <td>1</td>\n",
       "      <td>600</td>\n",
       "      <td>04/12/19 14:38</td>\n",
       "      <td>669 Spruce St, Los Angeles, CA 90001</td>\n",
       "    </tr>\n",
       "    <tr>\n",
       "      <th>4</th>\n",
       "      <td>176560</td>\n",
       "      <td>Wired Headphones</td>\n",
       "      <td>1</td>\n",
       "      <td>11.99</td>\n",
       "      <td>04/12/19 14:38</td>\n",
       "      <td>669 Spruce St, Los Angeles, CA 90001</td>\n",
       "    </tr>\n",
       "  </tbody>\n",
       "</table>\n",
       "</div>"
      ],
      "text/plain": [
       "  Order ID                     Product Quantity Ordered Price Each  \\\n",
       "0   176558        USB-C Charging Cable                2      11.95   \n",
       "1      NaN                         NaN              NaN        NaN   \n",
       "2   176559  Bose SoundSport Headphones                1      99.99   \n",
       "3   176560                Google Phone                1        600   \n",
       "4   176560            Wired Headphones                1      11.99   \n",
       "\n",
       "       Order Date                      Purchase Address  \n",
       "0  04/19/19 08:46          917 1st St, Dallas, TX 75001  \n",
       "1             NaN                                   NaN  \n",
       "2  04/07/19 22:30     682 Chestnut St, Boston, MA 02215  \n",
       "3  04/12/19 14:38  669 Spruce St, Los Angeles, CA 90001  \n",
       "4  04/12/19 14:38  669 Spruce St, Los Angeles, CA 90001  "
      ]
     },
     "execution_count": 9,
     "metadata": {},
     "output_type": "execute_result"
    }
   ],
   "source": [
    "all_data=pd.read_csv(\"all_data.csv\")\n",
    "all_data.head()"
   ]
  },
  {
   "cell_type": "code",
   "execution_count": 10,
   "metadata": {},
   "outputs": [
    {
     "data": {
      "text/plain": [
       "Order ID            545\n",
       "Product             545\n",
       "Quantity Ordered    545\n",
       "Price Each          545\n",
       "Order Date          545\n",
       "Purchase Address    545\n",
       "dtype: int64"
      ]
     },
     "execution_count": 10,
     "metadata": {},
     "output_type": "execute_result"
    }
   ],
   "source": [
    "all_data.isna().sum()"
   ]
  },
  {
   "cell_type": "code",
   "execution_count": 11,
   "metadata": {},
   "outputs": [],
   "source": [
    "all_data.dropna(inplace=True)\n",
    "all_data.reset_index(drop=True, inplace=True)"
   ]
  },
  {
   "cell_type": "code",
   "execution_count": 12,
   "metadata": {},
   "outputs": [
    {
     "data": {
      "text/plain": [
       "Order ID            0\n",
       "Product             0\n",
       "Quantity Ordered    0\n",
       "Price Each          0\n",
       "Order Date          0\n",
       "Purchase Address    0\n",
       "dtype: int64"
      ]
     },
     "execution_count": 12,
     "metadata": {},
     "output_type": "execute_result"
    }
   ],
   "source": [
    "all_data.isna().sum()"
   ]
  },
  {
   "cell_type": "code",
   "execution_count": 13,
   "metadata": {},
   "outputs": [
    {
     "data": {
      "text/html": [
       "<div>\n",
       "<style scoped>\n",
       "    .dataframe tbody tr th:only-of-type {\n",
       "        vertical-align: middle;\n",
       "    }\n",
       "\n",
       "    .dataframe tbody tr th {\n",
       "        vertical-align: top;\n",
       "    }\n",
       "\n",
       "    .dataframe thead th {\n",
       "        text-align: right;\n",
       "    }\n",
       "</style>\n",
       "<table border=\"1\" class=\"dataframe\">\n",
       "  <thead>\n",
       "    <tr style=\"text-align: right;\">\n",
       "      <th></th>\n",
       "      <th>Order ID</th>\n",
       "      <th>Product</th>\n",
       "      <th>Quantity Ordered</th>\n",
       "      <th>Price Each</th>\n",
       "      <th>Order Date</th>\n",
       "      <th>Purchase Address</th>\n",
       "    </tr>\n",
       "  </thead>\n",
       "  <tbody>\n",
       "    <tr>\n",
       "      <th>0</th>\n",
       "      <td>176558</td>\n",
       "      <td>USB-C Charging Cable</td>\n",
       "      <td>2</td>\n",
       "      <td>11.95</td>\n",
       "      <td>04/19/19 08:46</td>\n",
       "      <td>917 1st St, Dallas, TX 75001</td>\n",
       "    </tr>\n",
       "    <tr>\n",
       "      <th>1</th>\n",
       "      <td>176559</td>\n",
       "      <td>Bose SoundSport Headphones</td>\n",
       "      <td>1</td>\n",
       "      <td>99.99</td>\n",
       "      <td>04/07/19 22:30</td>\n",
       "      <td>682 Chestnut St, Boston, MA 02215</td>\n",
       "    </tr>\n",
       "    <tr>\n",
       "      <th>2</th>\n",
       "      <td>176560</td>\n",
       "      <td>Google Phone</td>\n",
       "      <td>1</td>\n",
       "      <td>600</td>\n",
       "      <td>04/12/19 14:38</td>\n",
       "      <td>669 Spruce St, Los Angeles, CA 90001</td>\n",
       "    </tr>\n",
       "    <tr>\n",
       "      <th>3</th>\n",
       "      <td>176560</td>\n",
       "      <td>Wired Headphones</td>\n",
       "      <td>1</td>\n",
       "      <td>11.99</td>\n",
       "      <td>04/12/19 14:38</td>\n",
       "      <td>669 Spruce St, Los Angeles, CA 90001</td>\n",
       "    </tr>\n",
       "    <tr>\n",
       "      <th>4</th>\n",
       "      <td>176561</td>\n",
       "      <td>Wired Headphones</td>\n",
       "      <td>1</td>\n",
       "      <td>11.99</td>\n",
       "      <td>04/30/19 09:27</td>\n",
       "      <td>333 8th St, Los Angeles, CA 90001</td>\n",
       "    </tr>\n",
       "  </tbody>\n",
       "</table>\n",
       "</div>"
      ],
      "text/plain": [
       "  Order ID                     Product Quantity Ordered Price Each  \\\n",
       "0   176558        USB-C Charging Cable                2      11.95   \n",
       "1   176559  Bose SoundSport Headphones                1      99.99   \n",
       "2   176560                Google Phone                1        600   \n",
       "3   176560            Wired Headphones                1      11.99   \n",
       "4   176561            Wired Headphones                1      11.99   \n",
       "\n",
       "       Order Date                      Purchase Address  \n",
       "0  04/19/19 08:46          917 1st St, Dallas, TX 75001  \n",
       "1  04/07/19 22:30     682 Chestnut St, Boston, MA 02215  \n",
       "2  04/12/19 14:38  669 Spruce St, Los Angeles, CA 90001  \n",
       "3  04/12/19 14:38  669 Spruce St, Los Angeles, CA 90001  \n",
       "4  04/30/19 09:27     333 8th St, Los Angeles, CA 90001  "
      ]
     },
     "execution_count": 13,
     "metadata": {},
     "output_type": "execute_result"
    }
   ],
   "source": [
    "all_data.head()"
   ]
  },
  {
   "cell_type": "code",
   "execution_count": 14,
   "metadata": {},
   "outputs": [
    {
     "name": "stdout",
     "output_type": "stream",
     "text": [
      "<class 'pandas.core.frame.DataFrame'>\n",
      "RangeIndex: 186305 entries, 0 to 186304\n",
      "Data columns (total 6 columns):\n",
      " #   Column            Non-Null Count   Dtype \n",
      "---  ------            --------------   ----- \n",
      " 0   Order ID          186305 non-null  object\n",
      " 1   Product           186305 non-null  object\n",
      " 2   Quantity Ordered  186305 non-null  object\n",
      " 3   Price Each        186305 non-null  object\n",
      " 4   Order Date        186305 non-null  object\n",
      " 5   Purchase Address  186305 non-null  object\n",
      "dtypes: object(6)\n",
      "memory usage: 8.5+ MB\n"
     ]
    }
   ],
   "source": [
    "all_data.info()"
   ]
  },
  {
   "cell_type": "code",
   "execution_count": 15,
   "metadata": {},
   "outputs": [
    {
     "data": {
      "text/html": [
       "<div>\n",
       "<style scoped>\n",
       "    .dataframe tbody tr th:only-of-type {\n",
       "        vertical-align: middle;\n",
       "    }\n",
       "\n",
       "    .dataframe tbody tr th {\n",
       "        vertical-align: top;\n",
       "    }\n",
       "\n",
       "    .dataframe thead th {\n",
       "        text-align: right;\n",
       "    }\n",
       "</style>\n",
       "<table border=\"1\" class=\"dataframe\">\n",
       "  <thead>\n",
       "    <tr style=\"text-align: right;\">\n",
       "      <th></th>\n",
       "      <th>Order ID</th>\n",
       "      <th>Product</th>\n",
       "      <th>Quantity Ordered</th>\n",
       "      <th>Price Each</th>\n",
       "      <th>Order Date</th>\n",
       "      <th>Purchase Address</th>\n",
       "    </tr>\n",
       "  </thead>\n",
       "  <tbody>\n",
       "    <tr>\n",
       "      <th>count</th>\n",
       "      <td>186305</td>\n",
       "      <td>186305</td>\n",
       "      <td>186305</td>\n",
       "      <td>186305</td>\n",
       "      <td>186305</td>\n",
       "      <td>186305</td>\n",
       "    </tr>\n",
       "    <tr>\n",
       "      <th>unique</th>\n",
       "      <td>178438</td>\n",
       "      <td>20</td>\n",
       "      <td>10</td>\n",
       "      <td>24</td>\n",
       "      <td>142396</td>\n",
       "      <td>140788</td>\n",
       "    </tr>\n",
       "    <tr>\n",
       "      <th>top</th>\n",
       "      <td>Order ID</td>\n",
       "      <td>USB-C Charging Cable</td>\n",
       "      <td>1</td>\n",
       "      <td>11.95</td>\n",
       "      <td>Order Date</td>\n",
       "      <td>Purchase Address</td>\n",
       "    </tr>\n",
       "    <tr>\n",
       "      <th>freq</th>\n",
       "      <td>355</td>\n",
       "      <td>21903</td>\n",
       "      <td>168552</td>\n",
       "      <td>21903</td>\n",
       "      <td>355</td>\n",
       "      <td>355</td>\n",
       "    </tr>\n",
       "  </tbody>\n",
       "</table>\n",
       "</div>"
      ],
      "text/plain": [
       "        Order ID               Product Quantity Ordered Price Each  \\\n",
       "count     186305                186305           186305     186305   \n",
       "unique    178438                    20               10         24   \n",
       "top     Order ID  USB-C Charging Cable                1      11.95   \n",
       "freq         355                 21903           168552      21903   \n",
       "\n",
       "        Order Date  Purchase Address  \n",
       "count       186305            186305  \n",
       "unique      142396            140788  \n",
       "top     Order Date  Purchase Address  \n",
       "freq           355               355  "
      ]
     },
     "execution_count": 15,
     "metadata": {},
     "output_type": "execute_result"
    }
   ],
   "source": [
    "all_data.describe()"
   ]
  },
  {
   "cell_type": "code",
   "execution_count": 16,
   "metadata": {},
   "outputs": [],
   "source": [
    "# Convert 'Quantity Ordered' to numeric, forcing errors to NaN\n",
    "all_data['Quantity_Ordered'] = pd.to_numeric(all_data['Quantity Ordered'],errors='coerce')\n",
    "all_data['Price'] = pd.to_numeric(all_data['Price Each'],errors='coerce')"
   ]
  },
  {
   "cell_type": "code",
   "execution_count": 17,
   "metadata": {},
   "outputs": [
    {
     "data": {
      "text/html": [
       "<div>\n",
       "<style scoped>\n",
       "    .dataframe tbody tr th:only-of-type {\n",
       "        vertical-align: middle;\n",
       "    }\n",
       "\n",
       "    .dataframe tbody tr th {\n",
       "        vertical-align: top;\n",
       "    }\n",
       "\n",
       "    .dataframe thead th {\n",
       "        text-align: right;\n",
       "    }\n",
       "</style>\n",
       "<table border=\"1\" class=\"dataframe\">\n",
       "  <thead>\n",
       "    <tr style=\"text-align: right;\">\n",
       "      <th></th>\n",
       "      <th>Order ID</th>\n",
       "      <th>Product</th>\n",
       "      <th>Quantity Ordered</th>\n",
       "      <th>Price Each</th>\n",
       "      <th>Order Date</th>\n",
       "      <th>Purchase Address</th>\n",
       "      <th>Quantity_Ordered</th>\n",
       "      <th>Price</th>\n",
       "    </tr>\n",
       "  </thead>\n",
       "  <tbody>\n",
       "    <tr>\n",
       "      <th>516</th>\n",
       "      <td>177054</td>\n",
       "      <td>Apple Airpods Headphones</td>\n",
       "      <td>1</td>\n",
       "      <td>150</td>\n",
       "      <td>04/09/19 19:18</td>\n",
       "      <td>800 Jackson St, Atlanta, GA 30301</td>\n",
       "      <td>1.0</td>\n",
       "      <td>150.0</td>\n",
       "    </tr>\n",
       "    <tr>\n",
       "      <th>517</th>\n",
       "      <td>Order ID</td>\n",
       "      <td>Product</td>\n",
       "      <td>Quantity Ordered</td>\n",
       "      <td>Price Each</td>\n",
       "      <td>Order Date</td>\n",
       "      <td>Purchase Address</td>\n",
       "      <td>NaN</td>\n",
       "      <td>NaN</td>\n",
       "    </tr>\n",
       "  </tbody>\n",
       "</table>\n",
       "</div>"
      ],
      "text/plain": [
       "     Order ID                   Product  Quantity Ordered  Price Each  \\\n",
       "516    177054  Apple Airpods Headphones                 1         150   \n",
       "517  Order ID                   Product  Quantity Ordered  Price Each   \n",
       "\n",
       "         Order Date                   Purchase Address  Quantity_Ordered  \\\n",
       "516  04/09/19 19:18  800 Jackson St, Atlanta, GA 30301               1.0   \n",
       "517      Order Date                   Purchase Address               NaN   \n",
       "\n",
       "     Price  \n",
       "516  150.0  \n",
       "517    NaN  "
      ]
     },
     "execution_count": 17,
     "metadata": {},
     "output_type": "execute_result"
    }
   ],
   "source": [
    "all_data.loc[516:517,:]"
   ]
  },
  {
   "cell_type": "code",
   "execution_count": 18,
   "metadata": {},
   "outputs": [
    {
     "data": {
      "text/plain": [
       "Order ID              0\n",
       "Product               0\n",
       "Quantity Ordered      0\n",
       "Price Each            0\n",
       "Order Date            0\n",
       "Purchase Address      0\n",
       "Quantity_Ordered    355\n",
       "Price               355\n",
       "dtype: int64"
      ]
     },
     "execution_count": 18,
     "metadata": {},
     "output_type": "execute_result"
    }
   ],
   "source": [
    "all_data.isna().sum()"
   ]
  },
  {
   "cell_type": "code",
   "execution_count": 19,
   "metadata": {},
   "outputs": [],
   "source": [
    "all_data.dropna(inplace=True)\n",
    "all_data.reset_index(drop=True, inplace=True)"
   ]
  },
  {
   "cell_type": "code",
   "execution_count": 20,
   "metadata": {},
   "outputs": [],
   "source": [
    "all_data.drop(columns=['Price Each','Quantity Ordered'],inplace=True)"
   ]
  },
  {
   "cell_type": "markdown",
   "metadata": {},
   "source": [
    "### Finding the month with Highest Sales \n",
    " "
   ]
  },
  {
   "cell_type": "code",
   "execution_count": 21,
   "metadata": {},
   "outputs": [
    {
     "data": {
      "text/html": [
       "<div>\n",
       "<style scoped>\n",
       "    .dataframe tbody tr th:only-of-type {\n",
       "        vertical-align: middle;\n",
       "    }\n",
       "\n",
       "    .dataframe tbody tr th {\n",
       "        vertical-align: top;\n",
       "    }\n",
       "\n",
       "    .dataframe thead th {\n",
       "        text-align: right;\n",
       "    }\n",
       "</style>\n",
       "<table border=\"1\" class=\"dataframe\">\n",
       "  <thead>\n",
       "    <tr style=\"text-align: right;\">\n",
       "      <th></th>\n",
       "      <th>Order ID</th>\n",
       "      <th>Product</th>\n",
       "      <th>Order Date</th>\n",
       "      <th>Purchase Address</th>\n",
       "      <th>Quantity_Ordered</th>\n",
       "      <th>Price</th>\n",
       "    </tr>\n",
       "  </thead>\n",
       "  <tbody>\n",
       "    <tr>\n",
       "      <th>0</th>\n",
       "      <td>176558</td>\n",
       "      <td>USB-C Charging Cable</td>\n",
       "      <td>04/19/19 08:46</td>\n",
       "      <td>917 1st St, Dallas, TX 75001</td>\n",
       "      <td>2.0</td>\n",
       "      <td>11.95</td>\n",
       "    </tr>\n",
       "    <tr>\n",
       "      <th>1</th>\n",
       "      <td>176559</td>\n",
       "      <td>Bose SoundSport Headphones</td>\n",
       "      <td>04/07/19 22:30</td>\n",
       "      <td>682 Chestnut St, Boston, MA 02215</td>\n",
       "      <td>1.0</td>\n",
       "      <td>99.99</td>\n",
       "    </tr>\n",
       "    <tr>\n",
       "      <th>2</th>\n",
       "      <td>176560</td>\n",
       "      <td>Google Phone</td>\n",
       "      <td>04/12/19 14:38</td>\n",
       "      <td>669 Spruce St, Los Angeles, CA 90001</td>\n",
       "      <td>1.0</td>\n",
       "      <td>600.00</td>\n",
       "    </tr>\n",
       "    <tr>\n",
       "      <th>3</th>\n",
       "      <td>176560</td>\n",
       "      <td>Wired Headphones</td>\n",
       "      <td>04/12/19 14:38</td>\n",
       "      <td>669 Spruce St, Los Angeles, CA 90001</td>\n",
       "      <td>1.0</td>\n",
       "      <td>11.99</td>\n",
       "    </tr>\n",
       "    <tr>\n",
       "      <th>4</th>\n",
       "      <td>176561</td>\n",
       "      <td>Wired Headphones</td>\n",
       "      <td>04/30/19 09:27</td>\n",
       "      <td>333 8th St, Los Angeles, CA 90001</td>\n",
       "      <td>1.0</td>\n",
       "      <td>11.99</td>\n",
       "    </tr>\n",
       "  </tbody>\n",
       "</table>\n",
       "</div>"
      ],
      "text/plain": [
       "  Order ID                     Product      Order Date  \\\n",
       "0   176558        USB-C Charging Cable  04/19/19 08:46   \n",
       "1   176559  Bose SoundSport Headphones  04/07/19 22:30   \n",
       "2   176560                Google Phone  04/12/19 14:38   \n",
       "3   176560            Wired Headphones  04/12/19 14:38   \n",
       "4   176561            Wired Headphones  04/30/19 09:27   \n",
       "\n",
       "                       Purchase Address  Quantity_Ordered   Price  \n",
       "0          917 1st St, Dallas, TX 75001               2.0   11.95  \n",
       "1     682 Chestnut St, Boston, MA 02215               1.0   99.99  \n",
       "2  669 Spruce St, Los Angeles, CA 90001               1.0  600.00  \n",
       "3  669 Spruce St, Los Angeles, CA 90001               1.0   11.99  \n",
       "4     333 8th St, Los Angeles, CA 90001               1.0   11.99  "
      ]
     },
     "execution_count": 21,
     "metadata": {},
     "output_type": "execute_result"
    }
   ],
   "source": [
    "all_data.head()"
   ]
  },
  {
   "cell_type": "code",
   "execution_count": 22,
   "metadata": {},
   "outputs": [],
   "source": [
    "all_data['Month']=all_data['Order Date'].str[0:2]"
   ]
  },
  {
   "cell_type": "code",
   "execution_count": 23,
   "metadata": {},
   "outputs": [
    {
     "data": {
      "text/html": [
       "<div>\n",
       "<style scoped>\n",
       "    .dataframe tbody tr th:only-of-type {\n",
       "        vertical-align: middle;\n",
       "    }\n",
       "\n",
       "    .dataframe tbody tr th {\n",
       "        vertical-align: top;\n",
       "    }\n",
       "\n",
       "    .dataframe thead th {\n",
       "        text-align: right;\n",
       "    }\n",
       "</style>\n",
       "<table border=\"1\" class=\"dataframe\">\n",
       "  <thead>\n",
       "    <tr style=\"text-align: right;\">\n",
       "      <th></th>\n",
       "      <th>Order ID</th>\n",
       "      <th>Product</th>\n",
       "      <th>Order Date</th>\n",
       "      <th>Purchase Address</th>\n",
       "      <th>Quantity_Ordered</th>\n",
       "      <th>Price</th>\n",
       "      <th>Month</th>\n",
       "    </tr>\n",
       "  </thead>\n",
       "  <tbody>\n",
       "    <tr>\n",
       "      <th>0</th>\n",
       "      <td>176558</td>\n",
       "      <td>USB-C Charging Cable</td>\n",
       "      <td>04/19/19 08:46</td>\n",
       "      <td>917 1st St, Dallas, TX 75001</td>\n",
       "      <td>2.0</td>\n",
       "      <td>11.95</td>\n",
       "      <td>04</td>\n",
       "    </tr>\n",
       "    <tr>\n",
       "      <th>1</th>\n",
       "      <td>176559</td>\n",
       "      <td>Bose SoundSport Headphones</td>\n",
       "      <td>04/07/19 22:30</td>\n",
       "      <td>682 Chestnut St, Boston, MA 02215</td>\n",
       "      <td>1.0</td>\n",
       "      <td>99.99</td>\n",
       "      <td>04</td>\n",
       "    </tr>\n",
       "    <tr>\n",
       "      <th>2</th>\n",
       "      <td>176560</td>\n",
       "      <td>Google Phone</td>\n",
       "      <td>04/12/19 14:38</td>\n",
       "      <td>669 Spruce St, Los Angeles, CA 90001</td>\n",
       "      <td>1.0</td>\n",
       "      <td>600.00</td>\n",
       "      <td>04</td>\n",
       "    </tr>\n",
       "  </tbody>\n",
       "</table>\n",
       "</div>"
      ],
      "text/plain": [
       "  Order ID                     Product      Order Date  \\\n",
       "0   176558        USB-C Charging Cable  04/19/19 08:46   \n",
       "1   176559  Bose SoundSport Headphones  04/07/19 22:30   \n",
       "2   176560                Google Phone  04/12/19 14:38   \n",
       "\n",
       "                       Purchase Address  Quantity_Ordered   Price Month  \n",
       "0          917 1st St, Dallas, TX 75001               2.0   11.95    04  \n",
       "1     682 Chestnut St, Boston, MA 02215               1.0   99.99    04  \n",
       "2  669 Spruce St, Los Angeles, CA 90001               1.0  600.00    04  "
      ]
     },
     "execution_count": 23,
     "metadata": {},
     "output_type": "execute_result"
    }
   ],
   "source": [
    "all_data.head(3)"
   ]
  },
  {
   "cell_type": "code",
   "execution_count": 24,
   "metadata": {},
   "outputs": [],
   "source": [
    "all_data['Total Amount']=all_data['Price']*all_data['Quantity_Ordered']"
   ]
  },
  {
   "cell_type": "code",
   "execution_count": 25,
   "metadata": {},
   "outputs": [
    {
     "data": {
      "text/html": [
       "<div>\n",
       "<style scoped>\n",
       "    .dataframe tbody tr th:only-of-type {\n",
       "        vertical-align: middle;\n",
       "    }\n",
       "\n",
       "    .dataframe tbody tr th {\n",
       "        vertical-align: top;\n",
       "    }\n",
       "\n",
       "    .dataframe thead th {\n",
       "        text-align: right;\n",
       "    }\n",
       "</style>\n",
       "<table border=\"1\" class=\"dataframe\">\n",
       "  <thead>\n",
       "    <tr style=\"text-align: right;\">\n",
       "      <th></th>\n",
       "      <th>Order ID</th>\n",
       "      <th>Product</th>\n",
       "      <th>Order Date</th>\n",
       "      <th>Purchase Address</th>\n",
       "      <th>Quantity_Ordered</th>\n",
       "      <th>Price</th>\n",
       "      <th>Month</th>\n",
       "      <th>Total Amount</th>\n",
       "    </tr>\n",
       "  </thead>\n",
       "  <tbody>\n",
       "    <tr>\n",
       "      <th>0</th>\n",
       "      <td>176558</td>\n",
       "      <td>USB-C Charging Cable</td>\n",
       "      <td>04/19/19 08:46</td>\n",
       "      <td>917 1st St, Dallas, TX 75001</td>\n",
       "      <td>2.0</td>\n",
       "      <td>11.95</td>\n",
       "      <td>04</td>\n",
       "      <td>23.90</td>\n",
       "    </tr>\n",
       "    <tr>\n",
       "      <th>1</th>\n",
       "      <td>176559</td>\n",
       "      <td>Bose SoundSport Headphones</td>\n",
       "      <td>04/07/19 22:30</td>\n",
       "      <td>682 Chestnut St, Boston, MA 02215</td>\n",
       "      <td>1.0</td>\n",
       "      <td>99.99</td>\n",
       "      <td>04</td>\n",
       "      <td>99.99</td>\n",
       "    </tr>\n",
       "    <tr>\n",
       "      <th>2</th>\n",
       "      <td>176560</td>\n",
       "      <td>Google Phone</td>\n",
       "      <td>04/12/19 14:38</td>\n",
       "      <td>669 Spruce St, Los Angeles, CA 90001</td>\n",
       "      <td>1.0</td>\n",
       "      <td>600.00</td>\n",
       "      <td>04</td>\n",
       "      <td>600.00</td>\n",
       "    </tr>\n",
       "    <tr>\n",
       "      <th>3</th>\n",
       "      <td>176560</td>\n",
       "      <td>Wired Headphones</td>\n",
       "      <td>04/12/19 14:38</td>\n",
       "      <td>669 Spruce St, Los Angeles, CA 90001</td>\n",
       "      <td>1.0</td>\n",
       "      <td>11.99</td>\n",
       "      <td>04</td>\n",
       "      <td>11.99</td>\n",
       "    </tr>\n",
       "    <tr>\n",
       "      <th>4</th>\n",
       "      <td>176561</td>\n",
       "      <td>Wired Headphones</td>\n",
       "      <td>04/30/19 09:27</td>\n",
       "      <td>333 8th St, Los Angeles, CA 90001</td>\n",
       "      <td>1.0</td>\n",
       "      <td>11.99</td>\n",
       "      <td>04</td>\n",
       "      <td>11.99</td>\n",
       "    </tr>\n",
       "  </tbody>\n",
       "</table>\n",
       "</div>"
      ],
      "text/plain": [
       "  Order ID                     Product      Order Date  \\\n",
       "0   176558        USB-C Charging Cable  04/19/19 08:46   \n",
       "1   176559  Bose SoundSport Headphones  04/07/19 22:30   \n",
       "2   176560                Google Phone  04/12/19 14:38   \n",
       "3   176560            Wired Headphones  04/12/19 14:38   \n",
       "4   176561            Wired Headphones  04/30/19 09:27   \n",
       "\n",
       "                       Purchase Address  Quantity_Ordered   Price Month  \\\n",
       "0          917 1st St, Dallas, TX 75001               2.0   11.95    04   \n",
       "1     682 Chestnut St, Boston, MA 02215               1.0   99.99    04   \n",
       "2  669 Spruce St, Los Angeles, CA 90001               1.0  600.00    04   \n",
       "3  669 Spruce St, Los Angeles, CA 90001               1.0   11.99    04   \n",
       "4     333 8th St, Los Angeles, CA 90001               1.0   11.99    04   \n",
       "\n",
       "   Total Amount  \n",
       "0         23.90  \n",
       "1         99.99  \n",
       "2        600.00  \n",
       "3         11.99  \n",
       "4         11.99  "
      ]
     },
     "execution_count": 25,
     "metadata": {},
     "output_type": "execute_result"
    }
   ],
   "source": [
    "all_data.head()"
   ]
  },
  {
   "cell_type": "code",
   "execution_count": 26,
   "metadata": {},
   "outputs": [
    {
     "name": "stdout",
     "output_type": "stream",
     "text": [
      "9709\n"
     ]
    }
   ],
   "source": [
    "print(len(all_data.loc[all_data['Month']=='01']))"
   ]
  },
  {
   "cell_type": "code",
   "execution_count": 27,
   "metadata": {},
   "outputs": [],
   "source": [
    "all_data['Month']=all_data['Month'].astype('int32')"
   ]
  },
  {
   "cell_type": "code",
   "execution_count": 28,
   "metadata": {},
   "outputs": [
    {
     "data": {
      "text/html": [
       "<div>\n",
       "<style scoped>\n",
       "    .dataframe tbody tr th:only-of-type {\n",
       "        vertical-align: middle;\n",
       "    }\n",
       "\n",
       "    .dataframe tbody tr th {\n",
       "        vertical-align: top;\n",
       "    }\n",
       "\n",
       "    .dataframe thead th {\n",
       "        text-align: right;\n",
       "    }\n",
       "</style>\n",
       "<table border=\"1\" class=\"dataframe\">\n",
       "  <thead>\n",
       "    <tr style=\"text-align: right;\">\n",
       "      <th></th>\n",
       "      <th>Order ID</th>\n",
       "      <th>Product</th>\n",
       "      <th>Order Date</th>\n",
       "      <th>Purchase Address</th>\n",
       "      <th>Quantity_Ordered</th>\n",
       "      <th>Price</th>\n",
       "      <th>Month</th>\n",
       "      <th>Total Amount</th>\n",
       "    </tr>\n",
       "  </thead>\n",
       "  <tbody>\n",
       "    <tr>\n",
       "      <th>0</th>\n",
       "      <td>176558</td>\n",
       "      <td>USB-C Charging Cable</td>\n",
       "      <td>04/19/19 08:46</td>\n",
       "      <td>917 1st St, Dallas, TX 75001</td>\n",
       "      <td>2.0</td>\n",
       "      <td>11.95</td>\n",
       "      <td>4</td>\n",
       "      <td>23.90</td>\n",
       "    </tr>\n",
       "    <tr>\n",
       "      <th>1</th>\n",
       "      <td>176559</td>\n",
       "      <td>Bose SoundSport Headphones</td>\n",
       "      <td>04/07/19 22:30</td>\n",
       "      <td>682 Chestnut St, Boston, MA 02215</td>\n",
       "      <td>1.0</td>\n",
       "      <td>99.99</td>\n",
       "      <td>4</td>\n",
       "      <td>99.99</td>\n",
       "    </tr>\n",
       "    <tr>\n",
       "      <th>2</th>\n",
       "      <td>176560</td>\n",
       "      <td>Google Phone</td>\n",
       "      <td>04/12/19 14:38</td>\n",
       "      <td>669 Spruce St, Los Angeles, CA 90001</td>\n",
       "      <td>1.0</td>\n",
       "      <td>600.00</td>\n",
       "      <td>4</td>\n",
       "      <td>600.00</td>\n",
       "    </tr>\n",
       "    <tr>\n",
       "      <th>3</th>\n",
       "      <td>176560</td>\n",
       "      <td>Wired Headphones</td>\n",
       "      <td>04/12/19 14:38</td>\n",
       "      <td>669 Spruce St, Los Angeles, CA 90001</td>\n",
       "      <td>1.0</td>\n",
       "      <td>11.99</td>\n",
       "      <td>4</td>\n",
       "      <td>11.99</td>\n",
       "    </tr>\n",
       "    <tr>\n",
       "      <th>4</th>\n",
       "      <td>176561</td>\n",
       "      <td>Wired Headphones</td>\n",
       "      <td>04/30/19 09:27</td>\n",
       "      <td>333 8th St, Los Angeles, CA 90001</td>\n",
       "      <td>1.0</td>\n",
       "      <td>11.99</td>\n",
       "      <td>4</td>\n",
       "      <td>11.99</td>\n",
       "    </tr>\n",
       "  </tbody>\n",
       "</table>\n",
       "</div>"
      ],
      "text/plain": [
       "  Order ID                     Product      Order Date  \\\n",
       "0   176558        USB-C Charging Cable  04/19/19 08:46   \n",
       "1   176559  Bose SoundSport Headphones  04/07/19 22:30   \n",
       "2   176560                Google Phone  04/12/19 14:38   \n",
       "3   176560            Wired Headphones  04/12/19 14:38   \n",
       "4   176561            Wired Headphones  04/30/19 09:27   \n",
       "\n",
       "                       Purchase Address  Quantity_Ordered   Price  Month  \\\n",
       "0          917 1st St, Dallas, TX 75001               2.0   11.95      4   \n",
       "1     682 Chestnut St, Boston, MA 02215               1.0   99.99      4   \n",
       "2  669 Spruce St, Los Angeles, CA 90001               1.0  600.00      4   \n",
       "3  669 Spruce St, Los Angeles, CA 90001               1.0   11.99      4   \n",
       "4     333 8th St, Los Angeles, CA 90001               1.0   11.99      4   \n",
       "\n",
       "   Total Amount  \n",
       "0         23.90  \n",
       "1         99.99  \n",
       "2        600.00  \n",
       "3         11.99  \n",
       "4         11.99  "
      ]
     },
     "execution_count": 28,
     "metadata": {},
     "output_type": "execute_result"
    }
   ],
   "source": [
    "all_data.head()"
   ]
  },
  {
   "cell_type": "code",
   "execution_count": 72,
   "metadata": {},
   "outputs": [
    {
     "name": "stdout",
     "output_type": "stream",
     "text": [
      "Month\n",
      "1     1822256.73\n",
      "2     2202022.42\n",
      "3     2807100.38\n",
      "4     3390670.24\n",
      "5     3152606.75\n",
      "6     2577802.26\n",
      "7     2647775.76\n",
      "8     2244467.88\n",
      "9     2097560.13\n",
      "10    3736726.88\n",
      "11    3199603.20\n",
      "12    4613443.34\n",
      "Name: Total Amount, dtype: float64\n"
     ]
    }
   ],
   "source": [
    "monthly_sales=all_data.groupby('Month')['Total Amount'].sum()\n",
    "print(monthly_sales)"
   ]
  },
  {
   "cell_type": "code",
   "execution_count": 76,
   "metadata": {},
   "outputs": [
    {
     "data": {
      "image/png": "[encoded data removed]",
      "text/plain": [
       "<Figure size 800x600 with 1 Axes>"
      ]
     },
     "metadata": {},
     "output_type": "display_data"
    }
   ],
   "source": [
    "from matplotlib.ticker import ScalarFormatter\n",
    "\n",
    "plt.figure(figsize=(8, 6))\n",
    "plt.bar(monthly_sales.index, monthly_sales.values)\n",
    "plt.xlabel('Month')\n",
    "plt.ylabel('Total Sales (in $)')\n",
    "plt.title('Total Sales by month')\n",
    "plt.xticks(monthly_sales.index) \n",
    "\n",
    "# Use ScalarFormatter to display plain numbers instead of scientific notation\n",
    "plt.gca().yaxis.set_major_formatter(ScalarFormatter(useOffset=False))\n",
    "plt.gca().yaxis.get_major_formatter().set_scientific(False)\n"
   ]
  },
  {
   "cell_type": "markdown",
   "metadata": {},
   "source": [
    "**Key Findings:**\n",
    "- ***Most*** sales were in the month of **December**- $4,613,443.34\n",
    "- **January** recorded the ***lowest*** sales $1822256.73\n"
   ]
  },
  {
   "cell_type": "markdown",
   "metadata": {},
   "source": [
    "### Finding the Total Sales by City"
   ]
  },
  {
   "cell_type": "code",
   "execution_count": 30,
   "metadata": {},
   "outputs": [
    {
     "name": "stdout",
     "output_type": "stream",
     "text": [
      "Boston, MA\n"
     ]
    }
   ],
   "source": [
    "import string\n",
    "# extracting city, and state from purchase address\n",
    "test=\"682 Chestnut St, Boston, MA 02215\t\"\n",
    "conv=test.split(sep=\",\")\n",
    "print(conv[1].strip()+\", \"+conv[2].strip()[:2])\n"
   ]
  },
  {
   "cell_type": "code",
   "execution_count": 31,
   "metadata": {},
   "outputs": [],
   "source": [
    "all_data['City_State']=all_data['Purchase Address'].apply(lambda x:x.split(\",\")[1].strip()+\", \"+ x.split(\",\")[2].strip()[:2])"
   ]
  },
  {
   "cell_type": "code",
   "execution_count": 32,
   "metadata": {},
   "outputs": [
    {
     "data": {
      "text/html": [
       "<div>\n",
       "<style scoped>\n",
       "    .dataframe tbody tr th:only-of-type {\n",
       "        vertical-align: middle;\n",
       "    }\n",
       "\n",
       "    .dataframe tbody tr th {\n",
       "        vertical-align: top;\n",
       "    }\n",
       "\n",
       "    .dataframe thead th {\n",
       "        text-align: right;\n",
       "    }\n",
       "</style>\n",
       "<table border=\"1\" class=\"dataframe\">\n",
       "  <thead>\n",
       "    <tr style=\"text-align: right;\">\n",
       "      <th></th>\n",
       "      <th>Order ID</th>\n",
       "      <th>Product</th>\n",
       "      <th>Order Date</th>\n",
       "      <th>Purchase Address</th>\n",
       "      <th>Quantity_Ordered</th>\n",
       "      <th>Price</th>\n",
       "      <th>Month</th>\n",
       "      <th>Total Amount</th>\n",
       "      <th>City_State</th>\n",
       "    </tr>\n",
       "  </thead>\n",
       "  <tbody>\n",
       "    <tr>\n",
       "      <th>0</th>\n",
       "      <td>176558</td>\n",
       "      <td>USB-C Charging Cable</td>\n",
       "      <td>04/19/19 08:46</td>\n",
       "      <td>917 1st St, Dallas, TX 75001</td>\n",
       "      <td>2.0</td>\n",
       "      <td>11.95</td>\n",
       "      <td>4</td>\n",
       "      <td>23.90</td>\n",
       "      <td>Dallas, TX</td>\n",
       "    </tr>\n",
       "    <tr>\n",
       "      <th>1</th>\n",
       "      <td>176559</td>\n",
       "      <td>Bose SoundSport Headphones</td>\n",
       "      <td>04/07/19 22:30</td>\n",
       "      <td>682 Chestnut St, Boston, MA 02215</td>\n",
       "      <td>1.0</td>\n",
       "      <td>99.99</td>\n",
       "      <td>4</td>\n",
       "      <td>99.99</td>\n",
       "      <td>Boston, MA</td>\n",
       "    </tr>\n",
       "    <tr>\n",
       "      <th>2</th>\n",
       "      <td>176560</td>\n",
       "      <td>Google Phone</td>\n",
       "      <td>04/12/19 14:38</td>\n",
       "      <td>669 Spruce St, Los Angeles, CA 90001</td>\n",
       "      <td>1.0</td>\n",
       "      <td>600.00</td>\n",
       "      <td>4</td>\n",
       "      <td>600.00</td>\n",
       "      <td>Los Angeles, CA</td>\n",
       "    </tr>\n",
       "    <tr>\n",
       "      <th>3</th>\n",
       "      <td>176560</td>\n",
       "      <td>Wired Headphones</td>\n",
       "      <td>04/12/19 14:38</td>\n",
       "      <td>669 Spruce St, Los Angeles, CA 90001</td>\n",
       "      <td>1.0</td>\n",
       "      <td>11.99</td>\n",
       "      <td>4</td>\n",
       "      <td>11.99</td>\n",
       "      <td>Los Angeles, CA</td>\n",
       "    </tr>\n",
       "    <tr>\n",
       "      <th>4</th>\n",
       "      <td>176561</td>\n",
       "      <td>Wired Headphones</td>\n",
       "      <td>04/30/19 09:27</td>\n",
       "      <td>333 8th St, Los Angeles, CA 90001</td>\n",
       "      <td>1.0</td>\n",
       "      <td>11.99</td>\n",
       "      <td>4</td>\n",
       "      <td>11.99</td>\n",
       "      <td>Los Angeles, CA</td>\n",
       "    </tr>\n",
       "  </tbody>\n",
       "</table>\n",
       "</div>"
      ],
      "text/plain": [
       "  Order ID                     Product      Order Date  \\\n",
       "0   176558        USB-C Charging Cable  04/19/19 08:46   \n",
       "1   176559  Bose SoundSport Headphones  04/07/19 22:30   \n",
       "2   176560                Google Phone  04/12/19 14:38   \n",
       "3   176560            Wired Headphones  04/12/19 14:38   \n",
       "4   176561            Wired Headphones  04/30/19 09:27   \n",
       "\n",
       "                       Purchase Address  Quantity_Ordered   Price  Month  \\\n",
       "0          917 1st St, Dallas, TX 75001               2.0   11.95      4   \n",
       "1     682 Chestnut St, Boston, MA 02215               1.0   99.99      4   \n",
       "2  669 Spruce St, Los Angeles, CA 90001               1.0  600.00      4   \n",
       "3  669 Spruce St, Los Angeles, CA 90001               1.0   11.99      4   \n",
       "4     333 8th St, Los Angeles, CA 90001               1.0   11.99      4   \n",
       "\n",
       "   Total Amount       City_State  \n",
       "0         23.90       Dallas, TX  \n",
       "1         99.99       Boston, MA  \n",
       "2        600.00  Los Angeles, CA  \n",
       "3         11.99  Los Angeles, CA  \n",
       "4         11.99  Los Angeles, CA  "
      ]
     },
     "execution_count": 32,
     "metadata": {},
     "output_type": "execute_result"
    }
   ],
   "source": [
    "all_data.head()"
   ]
  },
  {
   "cell_type": "code",
   "execution_count": 33,
   "metadata": {},
   "outputs": [
    {
     "data": {
      "text/plain": [
       "City_State\n",
       "Atlanta, GA          2795498.58\n",
       "Austin, TX           1819581.75\n",
       "Boston, MA           3661642.01\n",
       "Dallas, TX           2767975.40\n",
       "Los Angeles, CA      5452570.80\n",
       "New York City, NY    4664317.43\n",
       "Portland, ME          449758.27\n",
       "Portland, OR         1870732.34\n",
       "San Francisco, CA    8262203.91\n",
       "Seattle, WA          2747755.48\n",
       "Name: Total Amount, dtype: float64"
      ]
     },
     "execution_count": 33,
     "metadata": {},
     "output_type": "execute_result"
    }
   ],
   "source": [
    "all_data.groupby('City_State')['Total Amount'].sum()"
   ]
  },
  {
   "cell_type": "code",
   "execution_count": 34,
   "metadata": {},
   "outputs": [],
   "source": [
    "city_total=all_data.groupby('City_State')['Total Amount'].sum()\n"
   ]
  },
  {
   "cell_type": "code",
   "execution_count": 35,
   "metadata": {},
   "outputs": [
    {
     "data": {
      "text/plain": [
       "array([2795498.58, 1819581.75, 3661642.01, 2767975.4 , 5452570.8 ,\n",
       "       4664317.43,  449758.27, 1870732.34, 8262203.91, 2747755.48])"
      ]
     },
     "execution_count": 35,
     "metadata": {},
     "output_type": "execute_result"
    }
   ],
   "source": [
    "city_total.values"
   ]
  },
  {
   "cell_type": "code",
   "execution_count": 36,
   "metadata": {},
   "outputs": [
    {
     "data": {
      "image/png": "[encoded data removed]",
      "text/plain": [
       "<Figure size 800x600 with 1 Axes>"
      ]
     },
     "metadata": {},
     "output_type": "display_data"
    }
   ],
   "source": [
    "from matplotlib.ticker import ScalarFormatter\n",
    "\n",
    "plt.figure(figsize=(8, 6))\n",
    "plt.bar(city_total.index, city_total.values)\n",
    "plt.xlabel('City')\n",
    "plt.ylabel('Total Sales')\n",
    "plt.title('Total Sales by City')\n",
    "plt.xticks(city_total.index,rotation=70,ha='right') \n",
    "\n",
    "# Use ScalarFormatter to display plain numbers instead of scientific notation\n",
    "plt.gca().yaxis.set_major_formatter(ScalarFormatter(useOffset=False))\n",
    "plt.gca().yaxis.get_major_formatter().set_scientific(False)\n"
   ]
  },
  {
   "cell_type": "markdown",
   "metadata": {},
   "source": [
    "Key Findings:\n",
    "- Cities in **California** *(L.A and San Francisco)* accounted for the highest sales "
   ]
  },
  {
   "cell_type": "markdown",
   "metadata": {},
   "source": [
    "### Finding the Hour of day with the most orders"
   ]
  },
  {
   "cell_type": "code",
   "execution_count": 37,
   "metadata": {},
   "outputs": [
    {
     "data": {
      "text/html": [
       "<div>\n",
       "<style scoped>\n",
       "    .dataframe tbody tr th:only-of-type {\n",
       "        vertical-align: middle;\n",
       "    }\n",
       "\n",
       "    .dataframe tbody tr th {\n",
       "        vertical-align: top;\n",
       "    }\n",
       "\n",
       "    .dataframe thead th {\n",
       "        text-align: right;\n",
       "    }\n",
       "</style>\n",
       "<table border=\"1\" class=\"dataframe\">\n",
       "  <thead>\n",
       "    <tr style=\"text-align: right;\">\n",
       "      <th></th>\n",
       "      <th>Order ID</th>\n",
       "      <th>Product</th>\n",
       "      <th>Order Date</th>\n",
       "      <th>Purchase Address</th>\n",
       "      <th>Quantity_Ordered</th>\n",
       "      <th>Price</th>\n",
       "      <th>Month</th>\n",
       "      <th>Total Amount</th>\n",
       "      <th>City_State</th>\n",
       "    </tr>\n",
       "  </thead>\n",
       "  <tbody>\n",
       "    <tr>\n",
       "      <th>0</th>\n",
       "      <td>176558</td>\n",
       "      <td>USB-C Charging Cable</td>\n",
       "      <td>2019-04-19 08:46:00</td>\n",
       "      <td>917 1st St, Dallas, TX 75001</td>\n",
       "      <td>2.0</td>\n",
       "      <td>11.95</td>\n",
       "      <td>4</td>\n",
       "      <td>23.90</td>\n",
       "      <td>Dallas, TX</td>\n",
       "    </tr>\n",
       "    <tr>\n",
       "      <th>1</th>\n",
       "      <td>176559</td>\n",
       "      <td>Bose SoundSport Headphones</td>\n",
       "      <td>2019-04-07 22:30:00</td>\n",
       "      <td>682 Chestnut St, Boston, MA 02215</td>\n",
       "      <td>1.0</td>\n",
       "      <td>99.99</td>\n",
       "      <td>4</td>\n",
       "      <td>99.99</td>\n",
       "      <td>Boston, MA</td>\n",
       "    </tr>\n",
       "    <tr>\n",
       "      <th>2</th>\n",
       "      <td>176560</td>\n",
       "      <td>Google Phone</td>\n",
       "      <td>2019-04-12 14:38:00</td>\n",
       "      <td>669 Spruce St, Los Angeles, CA 90001</td>\n",
       "      <td>1.0</td>\n",
       "      <td>600.00</td>\n",
       "      <td>4</td>\n",
       "      <td>600.00</td>\n",
       "      <td>Los Angeles, CA</td>\n",
       "    </tr>\n",
       "    <tr>\n",
       "      <th>3</th>\n",
       "      <td>176560</td>\n",
       "      <td>Wired Headphones</td>\n",
       "      <td>2019-04-12 14:38:00</td>\n",
       "      <td>669 Spruce St, Los Angeles, CA 90001</td>\n",
       "      <td>1.0</td>\n",
       "      <td>11.99</td>\n",
       "      <td>4</td>\n",
       "      <td>11.99</td>\n",
       "      <td>Los Angeles, CA</td>\n",
       "    </tr>\n",
       "    <tr>\n",
       "      <th>4</th>\n",
       "      <td>176561</td>\n",
       "      <td>Wired Headphones</td>\n",
       "      <td>2019-04-30 09:27:00</td>\n",
       "      <td>333 8th St, Los Angeles, CA 90001</td>\n",
       "      <td>1.0</td>\n",
       "      <td>11.99</td>\n",
       "      <td>4</td>\n",
       "      <td>11.99</td>\n",
       "      <td>Los Angeles, CA</td>\n",
       "    </tr>\n",
       "  </tbody>\n",
       "</table>\n",
       "</div>"
      ],
      "text/plain": [
       "  Order ID                     Product          Order Date  \\\n",
       "0   176558        USB-C Charging Cable 2019-04-19 08:46:00   \n",
       "1   176559  Bose SoundSport Headphones 2019-04-07 22:30:00   \n",
       "2   176560                Google Phone 2019-04-12 14:38:00   \n",
       "3   176560            Wired Headphones 2019-04-12 14:38:00   \n",
       "4   176561            Wired Headphones 2019-04-30 09:27:00   \n",
       "\n",
       "                       Purchase Address  Quantity_Ordered   Price  Month  \\\n",
       "0          917 1st St, Dallas, TX 75001               2.0   11.95      4   \n",
       "1     682 Chestnut St, Boston, MA 02215               1.0   99.99      4   \n",
       "2  669 Spruce St, Los Angeles, CA 90001               1.0  600.00      4   \n",
       "3  669 Spruce St, Los Angeles, CA 90001               1.0   11.99      4   \n",
       "4     333 8th St, Los Angeles, CA 90001               1.0   11.99      4   \n",
       "\n",
       "   Total Amount       City_State  \n",
       "0         23.90       Dallas, TX  \n",
       "1         99.99       Boston, MA  \n",
       "2        600.00  Los Angeles, CA  \n",
       "3         11.99  Los Angeles, CA  \n",
       "4         11.99  Los Angeles, CA  "
      ]
     },
     "execution_count": 37,
     "metadata": {},
     "output_type": "execute_result"
    }
   ],
   "source": [
    "all_data['Order Date'] = pd.to_datetime(all_data['Order Date'], format='%m/%d/%y %H:%M')\n",
    "all_data.head()"
   ]
  },
  {
   "cell_type": "code",
   "execution_count": 38,
   "metadata": {},
   "outputs": [],
   "source": [
    "all_data['Hour']=all_data['Order Date'].dt.hour"
   ]
  },
  {
   "cell_type": "code",
   "execution_count": 39,
   "metadata": {},
   "outputs": [
    {
     "data": {
      "text/html": [
       "<div>\n",
       "<style scoped>\n",
       "    .dataframe tbody tr th:only-of-type {\n",
       "        vertical-align: middle;\n",
       "    }\n",
       "\n",
       "    .dataframe tbody tr th {\n",
       "        vertical-align: top;\n",
       "    }\n",
       "\n",
       "    .dataframe thead th {\n",
       "        text-align: right;\n",
       "    }\n",
       "</style>\n",
       "<table border=\"1\" class=\"dataframe\">\n",
       "  <thead>\n",
       "    <tr style=\"text-align: right;\">\n",
       "      <th></th>\n",
       "      <th>Order ID</th>\n",
       "      <th>Product</th>\n",
       "      <th>Order Date</th>\n",
       "      <th>Purchase Address</th>\n",
       "      <th>Quantity_Ordered</th>\n",
       "      <th>Price</th>\n",
       "      <th>Month</th>\n",
       "      <th>Total Amount</th>\n",
       "      <th>City_State</th>\n",
       "      <th>Hour</th>\n",
       "    </tr>\n",
       "  </thead>\n",
       "  <tbody>\n",
       "    <tr>\n",
       "      <th>0</th>\n",
       "      <td>176558</td>\n",
       "      <td>USB-C Charging Cable</td>\n",
       "      <td>2019-04-19 08:46:00</td>\n",
       "      <td>917 1st St, Dallas, TX 75001</td>\n",
       "      <td>2.0</td>\n",
       "      <td>11.95</td>\n",
       "      <td>4</td>\n",
       "      <td>23.90</td>\n",
       "      <td>Dallas, TX</td>\n",
       "      <td>8</td>\n",
       "    </tr>\n",
       "    <tr>\n",
       "      <th>1</th>\n",
       "      <td>176559</td>\n",
       "      <td>Bose SoundSport Headphones</td>\n",
       "      <td>2019-04-07 22:30:00</td>\n",
       "      <td>682 Chestnut St, Boston, MA 02215</td>\n",
       "      <td>1.0</td>\n",
       "      <td>99.99</td>\n",
       "      <td>4</td>\n",
       "      <td>99.99</td>\n",
       "      <td>Boston, MA</td>\n",
       "      <td>22</td>\n",
       "    </tr>\n",
       "    <tr>\n",
       "      <th>2</th>\n",
       "      <td>176560</td>\n",
       "      <td>Google Phone</td>\n",
       "      <td>2019-04-12 14:38:00</td>\n",
       "      <td>669 Spruce St, Los Angeles, CA 90001</td>\n",
       "      <td>1.0</td>\n",
       "      <td>600.00</td>\n",
       "      <td>4</td>\n",
       "      <td>600.00</td>\n",
       "      <td>Los Angeles, CA</td>\n",
       "      <td>14</td>\n",
       "    </tr>\n",
       "    <tr>\n",
       "      <th>3</th>\n",
       "      <td>176560</td>\n",
       "      <td>Wired Headphones</td>\n",
       "      <td>2019-04-12 14:38:00</td>\n",
       "      <td>669 Spruce St, Los Angeles, CA 90001</td>\n",
       "      <td>1.0</td>\n",
       "      <td>11.99</td>\n",
       "      <td>4</td>\n",
       "      <td>11.99</td>\n",
       "      <td>Los Angeles, CA</td>\n",
       "      <td>14</td>\n",
       "    </tr>\n",
       "    <tr>\n",
       "      <th>4</th>\n",
       "      <td>176561</td>\n",
       "      <td>Wired Headphones</td>\n",
       "      <td>2019-04-30 09:27:00</td>\n",
       "      <td>333 8th St, Los Angeles, CA 90001</td>\n",
       "      <td>1.0</td>\n",
       "      <td>11.99</td>\n",
       "      <td>4</td>\n",
       "      <td>11.99</td>\n",
       "      <td>Los Angeles, CA</td>\n",
       "      <td>9</td>\n",
       "    </tr>\n",
       "  </tbody>\n",
       "</table>\n",
       "</div>"
      ],
      "text/plain": [
       "  Order ID                     Product          Order Date  \\\n",
       "0   176558        USB-C Charging Cable 2019-04-19 08:46:00   \n",
       "1   176559  Bose SoundSport Headphones 2019-04-07 22:30:00   \n",
       "2   176560                Google Phone 2019-04-12 14:38:00   \n",
       "3   176560            Wired Headphones 2019-04-12 14:38:00   \n",
       "4   176561            Wired Headphones 2019-04-30 09:27:00   \n",
       "\n",
       "                       Purchase Address  Quantity_Ordered   Price  Month  \\\n",
       "0          917 1st St, Dallas, TX 75001               2.0   11.95      4   \n",
       "1     682 Chestnut St, Boston, MA 02215               1.0   99.99      4   \n",
       "2  669 Spruce St, Los Angeles, CA 90001               1.0  600.00      4   \n",
       "3  669 Spruce St, Los Angeles, CA 90001               1.0   11.99      4   \n",
       "4     333 8th St, Los Angeles, CA 90001               1.0   11.99      4   \n",
       "\n",
       "   Total Amount       City_State  Hour  \n",
       "0         23.90       Dallas, TX     8  \n",
       "1         99.99       Boston, MA    22  \n",
       "2        600.00  Los Angeles, CA    14  \n",
       "3         11.99  Los Angeles, CA    14  \n",
       "4         11.99  Los Angeles, CA     9  "
      ]
     },
     "execution_count": 39,
     "metadata": {},
     "output_type": "execute_result"
    }
   ],
   "source": [
    "all_data.head()"
   ]
  },
  {
   "cell_type": "code",
   "execution_count": 40,
   "metadata": {},
   "outputs": [],
   "source": [
    "hourly_total=all_data.groupby('Hour')['Total Amount'].sum()"
   ]
  },
  {
   "cell_type": "code",
   "execution_count": 41,
   "metadata": {},
   "outputs": [],
   "source": [
    "num_orders=all_data.groupby('Hour')['Order ID'].count()"
   ]
  },
  {
   "cell_type": "code",
   "execution_count": 42,
   "metadata": {},
   "outputs": [
    {
     "data": {
      "image/png": "[encoded data removed]",
      "text/plain": [
       "<Figure size 800x600 with 1 Axes>"
      ]
     },
     "metadata": {},
     "output_type": "display_data"
    }
   ],
   "source": [
    "plt.figure(figsize=(8, 6))\n",
    "plt.plot(num_orders.index, num_orders.values)\n",
    "plt.xlabel('Hour of the Day')\n",
    "plt.ylabel('Total No. of Orders')\n",
    "plt.title('Total Orders by Hour of the Day')\n",
    "plt.xticks(num_orders.index)  \n",
    "plt.grid(True)\n",
    "\n",
    "# Use ScalarFormatter to display plain numbers instead of scientific notation\n",
    "plt.gca().yaxis.set_major_formatter(ScalarFormatter(useOffset=False))\n",
    "plt.gca().yaxis.get_major_formatter().set_scientific(False)\n"
   ]
  },
  {
   "cell_type": "markdown",
   "metadata": {},
   "source": [
    "**Key Findings**:\n",
    "- Most Orders came around **12 noon** and **7 p.m**."
   ]
  },
  {
   "cell_type": "markdown",
   "metadata": {},
   "source": [
    "### Most Products which were bought together"
   ]
  },
  {
   "cell_type": "code",
   "execution_count": 44,
   "metadata": {},
   "outputs": [],
   "source": [
    "order_count=all_data['Order ID'].value_counts()"
   ]
  },
  {
   "cell_type": "code",
   "execution_count": 47,
   "metadata": {},
   "outputs": [],
   "source": [
    "df=all_data[all_data['Order ID'].duplicated(keep=False)]"
   ]
  },
  {
   "cell_type": "code",
   "execution_count": 48,
   "metadata": {},
   "outputs": [
    {
     "data": {
      "text/html": [
       "<div>\n",
       "<style scoped>\n",
       "    .dataframe tbody tr th:only-of-type {\n",
       "        vertical-align: middle;\n",
       "    }\n",
       "\n",
       "    .dataframe tbody tr th {\n",
       "        vertical-align: top;\n",
       "    }\n",
       "\n",
       "    .dataframe thead th {\n",
       "        text-align: right;\n",
       "    }\n",
       "</style>\n",
       "<table border=\"1\" class=\"dataframe\">\n",
       "  <thead>\n",
       "    <tr style=\"text-align: right;\">\n",
       "      <th></th>\n",
       "      <th>Order ID</th>\n",
       "      <th>Product</th>\n",
       "      <th>Order Date</th>\n",
       "      <th>Purchase Address</th>\n",
       "      <th>Quantity_Ordered</th>\n",
       "      <th>Price</th>\n",
       "      <th>Month</th>\n",
       "      <th>Total Amount</th>\n",
       "      <th>City_State</th>\n",
       "      <th>Hour</th>\n",
       "    </tr>\n",
       "  </thead>\n",
       "  <tbody>\n",
       "    <tr>\n",
       "      <th>2</th>\n",
       "      <td>176560</td>\n",
       "      <td>Google Phone</td>\n",
       "      <td>2019-04-12 14:38:00</td>\n",
       "      <td>669 Spruce St, Los Angeles, CA 90001</td>\n",
       "      <td>1.0</td>\n",
       "      <td>600.00</td>\n",
       "      <td>4</td>\n",
       "      <td>600.00</td>\n",
       "      <td>Los Angeles, CA</td>\n",
       "      <td>14</td>\n",
       "    </tr>\n",
       "    <tr>\n",
       "      <th>3</th>\n",
       "      <td>176560</td>\n",
       "      <td>Wired Headphones</td>\n",
       "      <td>2019-04-12 14:38:00</td>\n",
       "      <td>669 Spruce St, Los Angeles, CA 90001</td>\n",
       "      <td>1.0</td>\n",
       "      <td>11.99</td>\n",
       "      <td>4</td>\n",
       "      <td>11.99</td>\n",
       "      <td>Los Angeles, CA</td>\n",
       "      <td>14</td>\n",
       "    </tr>\n",
       "    <tr>\n",
       "      <th>17</th>\n",
       "      <td>176574</td>\n",
       "      <td>Google Phone</td>\n",
       "      <td>2019-04-03 19:42:00</td>\n",
       "      <td>20 Hill St, Los Angeles, CA 90001</td>\n",
       "      <td>1.0</td>\n",
       "      <td>600.00</td>\n",
       "      <td>4</td>\n",
       "      <td>600.00</td>\n",
       "      <td>Los Angeles, CA</td>\n",
       "      <td>19</td>\n",
       "    </tr>\n",
       "    <tr>\n",
       "      <th>18</th>\n",
       "      <td>176574</td>\n",
       "      <td>USB-C Charging Cable</td>\n",
       "      <td>2019-04-03 19:42:00</td>\n",
       "      <td>20 Hill St, Los Angeles, CA 90001</td>\n",
       "      <td>1.0</td>\n",
       "      <td>11.95</td>\n",
       "      <td>4</td>\n",
       "      <td>11.95</td>\n",
       "      <td>Los Angeles, CA</td>\n",
       "      <td>19</td>\n",
       "    </tr>\n",
       "    <tr>\n",
       "      <th>29</th>\n",
       "      <td>176585</td>\n",
       "      <td>Bose SoundSport Headphones</td>\n",
       "      <td>2019-04-07 11:31:00</td>\n",
       "      <td>823 Highland St, Boston, MA 02215</td>\n",
       "      <td>1.0</td>\n",
       "      <td>99.99</td>\n",
       "      <td>4</td>\n",
       "      <td>99.99</td>\n",
       "      <td>Boston, MA</td>\n",
       "      <td>11</td>\n",
       "    </tr>\n",
       "  </tbody>\n",
       "</table>\n",
       "</div>"
      ],
      "text/plain": [
       "   Order ID                     Product          Order Date  \\\n",
       "2    176560                Google Phone 2019-04-12 14:38:00   \n",
       "3    176560            Wired Headphones 2019-04-12 14:38:00   \n",
       "17   176574                Google Phone 2019-04-03 19:42:00   \n",
       "18   176574        USB-C Charging Cable 2019-04-03 19:42:00   \n",
       "29   176585  Bose SoundSport Headphones 2019-04-07 11:31:00   \n",
       "\n",
       "                        Purchase Address  Quantity_Ordered   Price  Month  \\\n",
       "2   669 Spruce St, Los Angeles, CA 90001               1.0  600.00      4   \n",
       "3   669 Spruce St, Los Angeles, CA 90001               1.0   11.99      4   \n",
       "17     20 Hill St, Los Angeles, CA 90001               1.0  600.00      4   \n",
       "18     20 Hill St, Los Angeles, CA 90001               1.0   11.95      4   \n",
       "29     823 Highland St, Boston, MA 02215               1.0   99.99      4   \n",
       "\n",
       "    Total Amount       City_State  Hour  \n",
       "2         600.00  Los Angeles, CA    14  \n",
       "3          11.99  Los Angeles, CA    14  \n",
       "17        600.00  Los Angeles, CA    19  \n",
       "18         11.95  Los Angeles, CA    19  \n",
       "29         99.99       Boston, MA    11  "
      ]
     },
     "execution_count": 48,
     "metadata": {},
     "output_type": "execute_result"
    }
   ],
   "source": [
    "df.head()"
   ]
  },
  {
   "cell_type": "code",
   "execution_count": 49,
   "metadata": {},
   "outputs": [
    {
     "name": "stderr",
     "output_type": "stream",
     "text": [
      "C:\\Users\\Furqan Ahmed\\AppData\\Local\\Temp\\ipykernel_13784\\2023700536.py:1: SettingWithCopyWarning: \n",
      "A value is trying to be set on a copy of a slice from a DataFrame.\n",
      "Try using .loc[row_indexer,col_indexer] = value instead\n",
      "\n",
      "See the caveats in the documentation: https://pandas.pydata.org/pandas-docs/stable/user_guide/indexing.html#returning-a-view-versus-a-copy\n",
      "  df['Grouped_prods']=df.groupby('Order ID')['Product'].transform(lambda x: ', '.join(x))\n"
     ]
    }
   ],
   "source": [
    "df['Grouped_prods']=df.groupby('Order ID')['Product'].transform(lambda x: ', '.join(x))\n",
    "df=df[['Order ID','Grouped_prods']]\n"
   ]
  },
  {
   "cell_type": "code",
   "execution_count": null,
   "metadata": {},
   "outputs": [],
   "source": [
    "df.drop_duplicates(inplace=True)"
   ]
  },
  {
   "cell_type": "code",
   "execution_count": 51,
   "metadata": {},
   "outputs": [
    {
     "data": {
      "text/html": [
       "<div>\n",
       "<style scoped>\n",
       "    .dataframe tbody tr th:only-of-type {\n",
       "        vertical-align: middle;\n",
       "    }\n",
       "\n",
       "    .dataframe tbody tr th {\n",
       "        vertical-align: top;\n",
       "    }\n",
       "\n",
       "    .dataframe thead th {\n",
       "        text-align: right;\n",
       "    }\n",
       "</style>\n",
       "<table border=\"1\" class=\"dataframe\">\n",
       "  <thead>\n",
       "    <tr style=\"text-align: right;\">\n",
       "      <th></th>\n",
       "      <th>Order ID</th>\n",
       "      <th>Grouped_prods</th>\n",
       "    </tr>\n",
       "  </thead>\n",
       "  <tbody>\n",
       "    <tr>\n",
       "      <th>2</th>\n",
       "      <td>176560</td>\n",
       "      <td>Google Phone, Wired Headphones</td>\n",
       "    </tr>\n",
       "    <tr>\n",
       "      <th>17</th>\n",
       "      <td>176574</td>\n",
       "      <td>Google Phone, USB-C Charging Cable</td>\n",
       "    </tr>\n",
       "    <tr>\n",
       "      <th>29</th>\n",
       "      <td>176585</td>\n",
       "      <td>Bose SoundSport Headphones, Bose SoundSport He...</td>\n",
       "    </tr>\n",
       "    <tr>\n",
       "      <th>31</th>\n",
       "      <td>176586</td>\n",
       "      <td>AAA Batteries (4-pack), Google Phone</td>\n",
       "    </tr>\n",
       "    <tr>\n",
       "      <th>118</th>\n",
       "      <td>176672</td>\n",
       "      <td>Lightning Charging Cable, USB-C Charging Cable</td>\n",
       "    </tr>\n",
       "  </tbody>\n",
       "</table>\n",
       "</div>"
      ],
      "text/plain": [
       "    Order ID                                      Grouped_prods\n",
       "2     176560                     Google Phone, Wired Headphones\n",
       "17    176574                 Google Phone, USB-C Charging Cable\n",
       "29    176585  Bose SoundSport Headphones, Bose SoundSport He...\n",
       "31    176586               AAA Batteries (4-pack), Google Phone\n",
       "118   176672     Lightning Charging Cable, USB-C Charging Cable"
      ]
     },
     "execution_count": 51,
     "metadata": {},
     "output_type": "execute_result"
    }
   ],
   "source": [
    "df.head()"
   ]
  },
  {
   "cell_type": "code",
   "execution_count": 52,
   "metadata": {},
   "outputs": [
    {
     "name": "stdout",
     "output_type": "stream",
     "text": [
      "Counter({('iPhone', ' Lightning Charging Cable'): 1005, ('Google Phone', ' USB-C Charging Cable'): 987, ('iPhone', ' Wired Headphones'): 447, ('Google Phone', ' Wired Headphones'): 414, ('Vareebadd Phone', ' USB-C Charging Cable'): 361, ('iPhone', ' Apple Airpods Headphones'): 360, ('Google Phone', ' Bose SoundSport Headphones'): 220, ('Vareebadd Phone', ' Wired Headphones'): 143, (' USB-C Charging Cable', ' Wired Headphones'): 120, ('Vareebadd Phone', ' Bose SoundSport Headphones'): 80, (' Lightning Charging Cable', ' Wired Headphones'): 62, ('Lightning Charging Cable', ' USB-C Charging Cable'): 55, ('Lightning Charging Cable', ' AA Batteries (4-pack)'): 52, (' USB-C Charging Cable', ' Bose SoundSport Headphones'): 51, ('Lightning Charging Cable', ' Lightning Charging Cable'): 51, ('AA Batteries (4-pack)', ' Lightning Charging Cable'): 51, ('AAA Batteries (4-pack)', ' USB-C Charging Cable'): 50, ('AA Batteries (4-pack)', ' AAA Batteries (4-pack)'): 48, ('AAA Batteries (4-pack)', ' AAA Batteries (4-pack)'): 48, (' Lightning Charging Cable', ' Apple Airpods Headphones'): 47, ('USB-C Charging Cable', ' USB-C Charging Cable'): 46, ('Apple Airpods Headphones', ' AAA Batteries (4-pack)'): 45, ('AA Batteries (4-pack)', ' Wired Headphones'): 44, ('AAA Batteries (4-pack)', ' Lightning Charging Cable'): 44, ('AAA Batteries (4-pack)', ' Wired Headphones'): 43, ('Wired Headphones', ' AAA Batteries (4-pack)'): 43, ('USB-C Charging Cable', ' AAA Batteries (4-pack)'): 42, ('Wired Headphones', ' USB-C Charging Cable'): 42, ('Apple Airpods Headphones', ' Wired Headphones'): 42, ('USB-C Charging Cable', ' Lightning Charging Cable'): 41, ('AA Batteries (4-pack)', ' Apple Airpods Headphones'): 41, ('USB-C Charging Cable', ' Wired Headphones'): 40, ('AAA Batteries (4-pack)', ' AA Batteries (4-pack)'): 39, ('Lightning Charging Cable', ' Bose SoundSport Headphones'): 39, ('Bose SoundSport Headphones', ' AAA Batteries (4-pack)'): 37, ('AA Batteries (4-pack)', ' USB-C Charging Cable'): 37, ('Wired Headphones', ' AA Batteries (4-pack)'): 36, ('Wired Headphones', ' Lightning Charging Cable'): 36, ('Apple Airpods Headphones', ' Lightning Charging Cable'): 35, ('Lightning Charging Cable', ' AAA Batteries (4-pack)'): 35, ('USB-C Charging Cable', ' AA Batteries (4-pack)'): 35, ('AA Batteries (4-pack)', ' AA Batteries (4-pack)'): 35, ('Wired Headphones', ' Wired Headphones'): 34, ('Lightning Charging Cable', ' Apple Airpods Headphones'): 34, ('AAA Batteries (4-pack)', ' Apple Airpods Headphones'): 33, ('Bose SoundSport Headphones', ' Lightning Charging Cable'): 32, ('Apple Airpods Headphones', ' Bose SoundSport Headphones'): 31, ('USB-C Charging Cable', ' Apple Airpods Headphones'): 31, ('Lightning Charging Cable', ' Wired Headphones'): 30, (' Bose SoundSport Headphones', ' Wired Headphones'): 29, ('Wired Headphones', ' Apple Airpods Headphones'): 29, ('USB-C Charging Cable', ' 27in FHD Monitor'): 29, ('Apple Airpods Headphones', ' USB-C Charging Cable'): 29, ('Apple Airpods Headphones', ' AA Batteries (4-pack)'): 29, ('AA Batteries (4-pack)', ' Bose SoundSport Headphones'): 28, ('Bose SoundSport Headphones', ' Bose SoundSport Headphones'): 27, ('Bose SoundSport Headphones', ' AA Batteries (4-pack)'): 27, (' Apple Airpods Headphones', ' Wired Headphones'): 27, ('USB-C Charging Cable', ' Bose SoundSport Headphones'): 26, ('Bose SoundSport Headphones', ' USB-C Charging Cable'): 25, ('Bose SoundSport Headphones', ' Wired Headphones'): 24, ('Apple Airpods Headphones', ' Apple Airpods Headphones'): 24, ('AAA Batteries (4-pack)', ' 27in FHD Monitor'): 22, ('27in FHD Monitor', ' AAA Batteries (4-pack)'): 21, ('Wired Headphones', ' Bose SoundSport Headphones'): 21, ('AAA Batteries (4-pack)', ' Bose SoundSport Headphones'): 20, ('34in Ultrawide Monitor', ' AA Batteries (4-pack)'): 19, ('AA Batteries (4-pack)', ' iPhone'): 18, ('27in FHD Monitor', ' Lightning Charging Cable'): 18, ('Lightning Charging Cable', ' 27in FHD Monitor'): 18, ('34in Ultrawide Monitor', ' Lightning Charging Cable'): 18, ('iPhone', ' AAA Batteries (4-pack)'): 17, ('Lightning Charging Cable', ' 27in 4K Gaming Monitor'): 17, ('Wired Headphones', ' 34in Ultrawide Monitor'): 17, ('Wired Headphones', ' 27in 4K Gaming Monitor'): 17, ('Bose SoundSport Headphones', ' Apple Airpods Headphones'): 17, ('ThinkPad Laptop', ' AAA Batteries (4-pack)'): 16, ('27in 4K Gaming Monitor', ' Lightning Charging Cable'): 16, ('34in Ultrawide Monitor', ' USB-C Charging Cable'): 15, ('27in FHD Monitor', ' AA Batteries (4-pack)'): 15, ('AAA Batteries (4-pack)', ' 27in 4K Gaming Monitor'): 15, ('iPhone', ' USB-C Charging Cable'): 15, ('20in Monitor', ' USB-C Charging Cable'): 15, ('Lightning Charging Cable', ' 20in Monitor'): 15, ('27in 4K Gaming Monitor', ' AAA Batteries (4-pack)'): 15, ('Google Phone', ' AA Batteries (4-pack)'): 14, ('Lightning Charging Cable', ' Google Phone'): 14, ('AA Batteries (4-pack)', ' 27in 4K Gaming Monitor'): 14, ('AAA Batteries (4-pack)', ' iPhone'): 14, ('Lightning Charging Cable', ' 34in Ultrawide Monitor'): 14, ('iPhone', ' AA Batteries (4-pack)'): 14, ('AA Batteries (4-pack)', ' Flatscreen TV'): 13, ('Apple Airpods Headphones', ' Google Phone'): 13, ('Wired Headphones', ' iPhone'): 13, ('Bose SoundSport Headphones', ' 27in FHD Monitor'): 13, ('AA Batteries (4-pack)', ' 34in Ultrawide Monitor'): 13, ('AAA Batteries (4-pack)', ' 34in Ultrawide Monitor'): 13, ('Apple Airpods Headphones', ' iPhone'): 13, ('Apple Airpods Headphones', ' 27in 4K Gaming Monitor'): 12, ('USB-C Charging Cable', ' iPhone'): 12, ('Apple Airpods Headphones', ' 27in FHD Monitor'): 12, ('27in FHD Monitor', ' Bose SoundSport Headphones'): 12, ('27in FHD Monitor', ' USB-C Charging Cable'): 12, ('Google Phone', ' Lightning Charging Cable'): 12, ('Apple Airpods Headphones', ' Macbook Pro Laptop'): 12, ('27in 4K Gaming Monitor', ' USB-C Charging Cable'): 12, ('Macbook Pro Laptop', ' USB-C Charging Cable'): 12, ('20in Monitor', ' Wired Headphones'): 12, ('27in FHD Monitor', ' Apple Airpods Headphones'): 12, ('USB-C Charging Cable', ' Google Phone'): 12, ('27in 4K Gaming Monitor', ' AA Batteries (4-pack)'): 12, ('34in Ultrawide Monitor', ' AAA Batteries (4-pack)'): 12, ('Wired Headphones', ' Macbook Pro Laptop'): 12, ('AAA Batteries (4-pack)', ' Google Phone'): 11, ('AAA Batteries (4-pack)', ' Macbook Pro Laptop'): 11, ('USB-C Charging Cable', ' 27in 4K Gaming Monitor'): 11, ('USB-C Charging Cable', ' ThinkPad Laptop'): 11, ('34in Ultrawide Monitor', ' Wired Headphones'): 11, ('20in Monitor', ' Lightning Charging Cable'): 11, ('AA Batteries (4-pack)', ' 27in FHD Monitor'): 11, ('ThinkPad Laptop', ' Lightning Charging Cable'): 11, ('Google Phone', ' AAA Batteries (4-pack)'): 11, ('Macbook Pro Laptop', ' Lightning Charging Cable'): 11, ('AA Batteries (4-pack)', ' Google Phone'): 11, ('Wired Headphones', ' 27in FHD Monitor'): 11, ('AAA Batteries (4-pack)', ' ThinkPad Laptop'): 11, ('Lightning Charging Cable', ' Flatscreen TV'): 11, ('Macbook Pro Laptop', ' Bose SoundSport Headphones'): 11, ('27in 4K Gaming Monitor', ' Wired Headphones'): 11, ('Flatscreen TV', ' AAA Batteries (4-pack)'): 11, ('Flatscreen TV', ' Lightning Charging Cable'): 10, ('Wired Headphones', ' ThinkPad Laptop'): 10, ('USB-C Charging Cable', ' 20in Monitor'): 10, ('27in 4K Gaming Monitor', ' Apple Airpods Headphones'): 10, ('Bose SoundSport Headphones', ' 34in Ultrawide Monitor'): 10, ('USB-C Charging Cable', ' Flatscreen TV'): 10, ('27in FHD Monitor', ' Wired Headphones'): 10, ('USB-C Charging Cable', ' 34in Ultrawide Monitor'): 10, ('AA Batteries (4-pack)', ' 20in Monitor'): 10, ('AAA Batteries (4-pack)', ' Flatscreen TV'): 10, ('Lightning Charging Cable', ' Macbook Pro Laptop'): 10, ('Bose SoundSport Headphones', ' 27in 4K Gaming Monitor'): 10, ('Apple Airpods Headphones', ' ThinkPad Laptop'): 9, ('27in 4K Gaming Monitor', ' Bose SoundSport Headphones'): 9, ('20in Monitor', ' Bose SoundSport Headphones'): 9, ('Macbook Pro Laptop', ' AA Batteries (4-pack)'): 9, ('ThinkPad Laptop', ' USB-C Charging Cable'): 9, ('ThinkPad Laptop', ' Bose SoundSport Headphones'): 9, ('Vareebadd Phone', ' AA Batteries (4-pack)'): 9, ('USB-C Charging Cable', ' Macbook Pro Laptop'): 9, ('Lightning Charging Cable', ' iPhone'): 9, ('27in FHD Monitor', ' 27in FHD Monitor'): 9, ('AA Batteries (4-pack)', ' ThinkPad Laptop'): 9, ('Bose SoundSport Headphones', ' Flatscreen TV'): 9, ('Lightning Charging Cable', ' ThinkPad Laptop'): 9, ('Wired Headphones', ' Google Phone'): 8, ('AA Batteries (4-pack)', ' Macbook Pro Laptop'): 8, ('Flatscreen TV', ' AA Batteries (4-pack)'): 8, ('Apple Airpods Headphones', ' Flatscreen TV'): 8, ('ThinkPad Laptop', ' AA Batteries (4-pack)'): 8, ('AAA Batteries (4-pack)', ' 20in Monitor'): 8, ('34in Ultrawide Monitor', ' Apple Airpods Headphones'): 8, ('Bose SoundSport Headphones', ' Google Phone'): 8, ('20in Monitor', ' Apple Airpods Headphones'): 7, ('Macbook Pro Laptop', ' Apple Airpods Headphones'): 7, ('Wired Headphones', ' Flatscreen TV'): 7, ('Wired Headphones', ' 20in Monitor'): 7, ('Macbook Pro Laptop', ' Wired Headphones'): 7, ('Google Phone', ' 27in FHD Monitor'): 7, ('Macbook Pro Laptop', ' AAA Batteries (4-pack)'): 7, ('34in Ultrawide Monitor', ' iPhone'): 7, ('34in Ultrawide Monitor', ' 34in Ultrawide Monitor'): 7, ('Flatscreen TV', ' USB-C Charging Cable'): 7, ('Bose SoundSport Headphones', ' iPhone'): 7, ('ThinkPad Laptop', ' Apple Airpods Headphones'): 7, ('Google Phone', ' Apple Airpods Headphones'): 7, ('Macbook Pro Laptop', ' 27in 4K Gaming Monitor'): 7, ('iPhone', ' 27in 4K Gaming Monitor'): 6, ('Flatscreen TV', ' Flatscreen TV'): 6, ('Apple Airpods Headphones', ' 34in Ultrawide Monitor'): 6, ('iPhone', ' 34in Ultrawide Monitor'): 6, ('Vareebadd Phone', ' Apple Airpods Headphones'): 6, ('USB-C Charging Cable', ' Vareebadd Phone'): 6, ('27in 4K Gaming Monitor', ' 34in Ultrawide Monitor'): 6, ('27in 4K Gaming Monitor', ' Macbook Pro Laptop'): 6, ('Bose SoundSport Headphones', ' 20in Monitor'): 6, ('iPhone', ' Flatscreen TV'): 6, ('Apple Airpods Headphones', ' 20in Monitor'): 6, ('Apple Airpods Headphones', ' Vareebadd Phone'): 6, ('Wired Headphones', ' Vareebadd Phone'): 6, ('34in Ultrawide Monitor', ' Bose SoundSport Headphones'): 6, ('Google Phone', ' iPhone'): 6, ('27in FHD Monitor', ' Macbook Pro Laptop'): 6, ('20in Monitor', ' AA Batteries (4-pack)'): 6, ('iPhone', ' Bose SoundSport Headphones'): 5, ('27in 4K Gaming Monitor', ' 27in 4K Gaming Monitor'): 5, ('Flatscreen TV', ' 34in Ultrawide Monitor'): 5, ('27in 4K Gaming Monitor', ' Google Phone'): 5, ('27in FHD Monitor', ' 34in Ultrawide Monitor'): 5, ('Flatscreen TV', ' Apple Airpods Headphones'): 5, ('34in Ultrawide Monitor', ' 27in FHD Monitor'): 5, ('Macbook Pro Laptop', ' 34in Ultrawide Monitor'): 4, ('iPhone', ' Vareebadd Phone'): 4, ('Bose SoundSport Headphones', ' ThinkPad Laptop'): 4, ('20in Monitor', ' Macbook Pro Laptop'): 4, ('Vareebadd Phone', ' 34in Ultrawide Monitor'): 4, ('Flatscreen TV', ' Wired Headphones'): 4, ('Flatscreen TV', ' 27in FHD Monitor'): 4, ('LG Dryer', ' AA Batteries (4-pack)'): 4, ('Flatscreen TV', ' Macbook Pro Laptop'): 4, ('27in FHD Monitor', ' 27in 4K Gaming Monitor'): 4, ('ThinkPad Laptop', ' Flatscreen TV'): 4, ('Flatscreen TV', ' iPhone'): 4, ('27in 4K Gaming Monitor', ' ThinkPad Laptop'): 4, ('Vareebadd Phone', ' Google Phone'): 4, ('Macbook Pro Laptop', ' Google Phone'): 4, ('27in 4K Gaming Monitor', ' 27in FHD Monitor'): 4, ('Lightning Charging Cable', ' LG Washing Machine'): 4, ('27in FHD Monitor', ' ThinkPad Laptop'): 4, ('ThinkPad Laptop', ' Wired Headphones'): 4, ('iPhone', ' ThinkPad Laptop'): 4, ('Bose SoundSport Headphones', ' Macbook Pro Laptop'): 4, ('AAA Batteries (4-pack)', ' Vareebadd Phone'): 4, ('LG Washing Machine', ' AAA Batteries (4-pack)'): 4, (' Apple Airpods Headphones', ' AAA Batteries (4-pack)'): 3, ('Macbook Pro Laptop', ' ThinkPad Laptop'): 3, ('ThinkPad Laptop', ' Google Phone'): 3, (' Wired Headphones', ' USB-C Charging Cable'): 3, ('34in Ultrawide Monitor', ' Macbook Pro Laptop'): 3, (' Lightning Charging Cable', ' Lightning Charging Cable'): 3, ('Google Phone', ' ThinkPad Laptop'): 3, ('20in Monitor', ' 20in Monitor'): 3, ('ThinkPad Laptop', ' iPhone'): 3, ('Vareebadd Phone', ' Flatscreen TV'): 3, ('34in Ultrawide Monitor', ' Flatscreen TV'): 3, ('Macbook Pro Laptop', ' Macbook Pro Laptop'): 3, ('34in Ultrawide Monitor', ' ThinkPad Laptop'): 3, (' Lightning Charging Cable', ' AA Batteries (4-pack)'): 3, (' Wired Headphones', ' AA Batteries (4-pack)'): 3, ('Macbook Pro Laptop', ' iPhone'): 3, ('Vareebadd Phone', ' iPhone'): 3, ('Wired Headphones', ' LG Washing Machine'): 3, ('Google Phone', ' 34in Ultrawide Monitor'): 3, ('Macbook Pro Laptop', ' 27in FHD Monitor'): 3, (' USB-C Charging Cable', ' Apple Airpods Headphones'): 3, ('Flatscreen TV', ' Bose SoundSport Headphones'): 3, ('AA Batteries (4-pack)', ' Vareebadd Phone'): 3, ('27in FHD Monitor', ' 20in Monitor'): 3, ('iPhone', ' Google Phone'): 3, (' USB-C Charging Cable', ' AAA Batteries (4-pack)'): 3, ('27in 4K Gaming Monitor', ' iPhone'): 3, ('Google Phone', ' Google Phone'): 3, (' USB-C Charging Cable', ' AA Batteries (4-pack)'): 3, ('Flatscreen TV', ' Google Phone'): 3, ('Google Phone', ' Macbook Pro Laptop'): 3, ('27in 4K Gaming Monitor', ' Flatscreen TV'): 3, ('Apple Airpods Headphones', ' LG Dryer'): 3, (' Lightning Charging Cable', ' USB-C Charging Cable'): 3, ('20in Monitor', ' AAA Batteries (4-pack)'): 3, ('iPhone', ' Macbook Pro Laptop'): 3, ('34in Ultrawide Monitor', ' Google Phone'): 2, (' USB-C Charging Cable', ' USB-C Charging Cable'): 2, ('Macbook Pro Laptop', ' 20in Monitor'): 2, ('Lightning Charging Cable', ' LG Dryer'): 2, ('Flatscreen TV', ' 27in 4K Gaming Monitor'): 2, ('ThinkPad Laptop', ' Macbook Pro Laptop'): 2, (' USB-C Charging Cable', ' 27in FHD Monitor'): 2, ('Macbook Pro Laptop', ' LG Washing Machine'): 2, (' USB-C Charging Cable', ' iPhone'): 2, ('20in Monitor', ' 27in FHD Monitor'): 2, ('ThinkPad Laptop', ' ThinkPad Laptop'): 2, ('Bose SoundSport Headphones', ' Vareebadd Phone'): 2, ('Vareebadd Phone', ' ThinkPad Laptop'): 2, ('20in Monitor', ' ThinkPad Laptop'): 2, (' Wired Headphones', ' Apple Airpods Headphones'): 2, ('Lightning Charging Cable', ' Vareebadd Phone'): 2, ('iPhone', ' iPhone'): 2, (' Wired Headphones', ' iPhone'): 2, ('27in FHD Monitor', ' LG Dryer'): 2, (' Lightning Charging Cable', ' Google Phone'): 2, ('Vareebadd Phone', ' 27in 4K Gaming Monitor'): 2, ('27in 4K Gaming Monitor', ' 20in Monitor'): 2, ('LG Washing Machine', ' Lightning Charging Cable'): 2, ('LG Washing Machine', ' Bose SoundSport Headphones'): 2, ('AA Batteries (4-pack)', ' LG Dryer'): 2, ('Vareebadd Phone', ' AAA Batteries (4-pack)'): 2, ('iPhone', ' 20in Monitor'): 2, ('20in Monitor', ' Google Phone'): 2, ('Flatscreen TV', ' ThinkPad Laptop'): 2, ('ThinkPad Laptop', ' 27in FHD Monitor'): 2, ('27in FHD Monitor', ' Flatscreen TV'): 2, ('Google Phone', ' 20in Monitor'): 2, ('27in 4K Gaming Monitor', ' Vareebadd Phone'): 1, (' Lightning Charging Cable', ' Vareebadd Phone'): 1, ('27in FHD Monitor', ' iPhone'): 1, ('Vareebadd Phone', ' Lightning Charging Cable'): 1, ('Google Phone', ' Vareebadd Phone'): 1, (' USB-C Charging Cable', ' Vareebadd Phone'): 1, ('20in Monitor', ' iPhone'): 1, ('LG Dryer', ' Vareebadd Phone'): 1, ('Macbook Pro Laptop', ' Flatscreen TV'): 1, ('ThinkPad Laptop', ' Vareebadd Phone'): 1, (' USB-C Charging Cable', ' 34in Ultrawide Monitor'): 1, (' Bose SoundSport Headphones', ' 34in Ultrawide Monitor'): 1, ('Google Phone', ' Flatscreen TV'): 1, (' Lightning Charging Cable', ' iPhone'): 1, ('LG Washing Machine', ' Google Phone'): 1, ('LG Washing Machine', ' Wired Headphones'): 1, (' Apple Airpods Headphones', ' Google Phone'): 1, (' Wired Headphones', ' Google Phone'): 1, (' Wired Headphones', ' 27in 4K Gaming Monitor'): 1, ('LG Dryer', ' Flatscreen TV'): 1, ('27in FHD Monitor', ' LG Washing Machine'): 1, ('LG Dryer', ' 27in FHD Monitor'): 1, ('20in Monitor', ' 34in Ultrawide Monitor'): 1, (' Wired Headphones', ' Wired Headphones'): 1, (' Wired Headphones', ' Macbook Pro Laptop'): 1, ('34in Ultrawide Monitor', ' 20in Monitor'): 1, (' Wired Headphones', ' 27in FHD Monitor'): 1, ('34in Ultrawide Monitor', ' LG Washing Machine'): 1, ('Google Phone', ' 27in 4K Gaming Monitor'): 1, ('LG Washing Machine', ' iPhone'): 1, ('LG Dryer', ' Wired Headphones'): 1, (' Lightning Charging Cable', ' 34in Ultrawide Monitor'): 1, (' Bose SoundSport Headphones', ' 27in FHD Monitor'): 1, (' Lightning Charging Cable', ' 27in 4K Gaming Monitor'): 1, ('27in FHD Monitor', ' Vareebadd Phone'): 1, ('LG Washing Machine', ' 27in 4K Gaming Monitor'): 1, (' Apple Airpods Headphones', ' Bose SoundSport Headphones'): 1, ('LG Washing Machine', ' Apple Airpods Headphones'): 1, ('27in 4K Gaming Monitor', ' LG Dryer'): 1, ('20in Monitor', ' LG Washing Machine'): 1, ('LG Dryer', ' Google Phone'): 1, ('Vareebadd Phone', ' 27in FHD Monitor'): 1, ('ThinkPad Laptop', ' 27in 4K Gaming Monitor'): 1, ('20in Monitor', ' Flatscreen TV'): 1, ('USB-C Charging Cable', ' LG Dryer'): 1, (' Wired Headphones', ' Lightning Charging Cable'): 1, (' Bose SoundSport Headphones', ' Apple Airpods Headphones'): 1, ('LG Washing Machine', ' 20in Monitor'): 1, ('Flatscreen TV', ' 20in Monitor'): 1, ('27in FHD Monitor', ' Google Phone'): 1, ('iPhone', ' 27in FHD Monitor'): 1, (' USB-C Charging Cable', ' Lightning Charging Cable'): 1, (' Lightning Charging Cable', ' AAA Batteries (4-pack)'): 1, ('LG Dryer', ' AAA Batteries (4-pack)'): 1, ('ThinkPad Laptop', ' 34in Ultrawide Monitor'): 1, ('iPhone', ' LG Washing Machine'): 1, (' Bose SoundSport Headphones', ' Lightning Charging Cable'): 1, (' Bose SoundSport Headphones', ' Flatscreen TV'): 1, (' Lightning Charging Cable', ' Flatscreen TV'): 1, ('AAA Batteries (4-pack)', ' LG Dryer'): 1, ('LG Dryer', ' 27in 4K Gaming Monitor'): 1, ('LG Dryer', ' Lightning Charging Cable'): 1, ('ThinkPad Laptop', ' LG Dryer'): 1, ('LG Washing Machine', ' AA Batteries (4-pack)'): 1})\n"
     ]
    }
   ],
   "source": [
    "from collections import Counter\n",
    "from itertools import combinations\n",
    "ctr=Counter()\n",
    "for row in df['Grouped_prods']:\n",
    "    row_list=row.split(\",\")\n",
    "    ctr.update(Counter(combinations(row_list,2)))\n",
    "\n",
    "print(ctr)"
   ]
  },
  {
   "cell_type": "code",
   "execution_count": 53,
   "metadata": {},
   "outputs": [
    {
     "name": "stdout",
     "output_type": "stream",
     "text": [
      "Top 10 Most Bought Combinations:\n",
      "Products                                                No. of Purchases\n",
      "===========================================================================\n",
      "1. iPhone,  Lightning Charging Cable                            1005           \n",
      "2. Google Phone,  USB-C Charging Cable                          987            \n",
      "3. iPhone,  Wired Headphones                                    447            \n",
      "4. Google Phone,  Wired Headphones                              414            \n",
      "5. Vareebadd Phone,  USB-C Charging Cable                       361            \n",
      "6. iPhone,  Apple Airpods Headphones                            360            \n",
      "7. Google Phone,  Bose SoundSport Headphones                    220            \n",
      "8. Vareebadd Phone,  Wired Headphones                           143            \n",
      "9.  USB-C Charging Cable,  Wired Headphones                     120            \n",
      "10. Vareebadd Phone,  Bose SoundSport Headphones                 80             \n"
     ]
    }
   ],
   "source": [
    "print(\"Top 10 Most Bought Combinations:\")\n",
    "print(f\"{'Products':<55} {'No. of Purchases':<15}\")\n",
    "print(\"=\"*75)\n",
    "i=1\n",
    "for combi, total in ctr.most_common(10):\n",
    "    products = ', '.join(combi)\n",
    "    print(f\"{i}. {products:<60} {total:<15}\")\n",
    "    i+=1\n"
   ]
  },
  {
   "cell_type": "markdown",
   "metadata": {},
   "source": [
    "### Total revenue generated by each product"
   ]
  },
  {
   "cell_type": "code",
   "execution_count": 54,
   "metadata": {},
   "outputs": [
    {
     "name": "stdout",
     "output_type": "stream",
     "text": [
      "['20in Monitor', '27in 4K Gaming Monitor', '27in FHD Monitor', '34in Ultrawide Monitor', 'AA Batteries (4-pack)', 'AAA Batteries (4-pack)', 'Apple Airpods Headphones', 'Bose SoundSport Headphones', 'Flatscreen TV', 'Google Phone', 'LG Dryer', 'LG Washing Machine', 'Lightning Charging Cable', 'Macbook Pro Laptop', 'ThinkPad Laptop', 'USB-C Charging Cable', 'Vareebadd Phone', 'Wired Headphones', 'iPhone']\n"
     ]
    }
   ],
   "source": [
    "product_group = all_data.groupby('Product')\n",
    "quantity_ordered = product_group['Quantity_Ordered'].sum()\n",
    "\n",
    "prod = [pair for pair, df in product_group]\n",
    "print(prod)"
   ]
  },
  {
   "cell_type": "code",
   "execution_count": null,
   "metadata": {},
   "outputs": [],
   "source": [
    "prices=all_data.groupby('Product')['Price'].mean()\n",
    "\n",
    "fig,ax1=plt.subplots()\n",
    "ax2=ax1.twinx()\n",
    "ax1.bar(prod, quantity_ordered, color='g')\n",
    "ax2.plot(prod, prices, color='b')\n",
    "\n",
    "ax1.set_xlabel('Product Name')\n",
    "ax1.set_ylabel('Quantity Ordered', color='g')\n",
    "ax2.set_ylabel('Price ($)', color='b')\n",
    "ax1.set_xticklabels(prod, rotation='vertical', size=8)\n",
    "\n",
    "plt.show()"
   ]
  },
  {
   "cell_type": "markdown",
   "metadata": {},
   "source": [
    "**Key Findings**: \n",
    "- Most products bring in justified sales based on their price except for **LG Dryer**, and **LG Washing Machine** \n",
    "which are ***severely underselling*** for the price they cost"
   ]
  },
  {
   "cell_type": "code",
   "execution_count": 56,
   "metadata": {},
   "outputs": [
    {
     "data": {
      "text/html": [
       "<div>\n",
       "<style scoped>\n",
       "    .dataframe tbody tr th:only-of-type {\n",
       "        vertical-align: middle;\n",
       "    }\n",
       "\n",
       "    .dataframe tbody tr th {\n",
       "        vertical-align: top;\n",
       "    }\n",
       "\n",
       "    .dataframe thead th {\n",
       "        text-align: right;\n",
       "    }\n",
       "</style>\n",
       "<table border=\"1\" class=\"dataframe\">\n",
       "  <thead>\n",
       "    <tr style=\"text-align: right;\">\n",
       "      <th></th>\n",
       "      <th>Order ID</th>\n",
       "      <th>Product</th>\n",
       "      <th>Order Date</th>\n",
       "      <th>Purchase Address</th>\n",
       "      <th>Quantity_Ordered</th>\n",
       "      <th>Price</th>\n",
       "      <th>Month</th>\n",
       "      <th>Total Amount</th>\n",
       "      <th>City_State</th>\n",
       "      <th>Hour</th>\n",
       "    </tr>\n",
       "  </thead>\n",
       "  <tbody>\n",
       "    <tr>\n",
       "      <th>0</th>\n",
       "      <td>176558</td>\n",
       "      <td>USB-C Charging Cable</td>\n",
       "      <td>2019-04-19 08:46:00</td>\n",
       "      <td>917 1st St, Dallas, TX 75001</td>\n",
       "      <td>2.0</td>\n",
       "      <td>11.95</td>\n",
       "      <td>4</td>\n",
       "      <td>23.90</td>\n",
       "      <td>Dallas, TX</td>\n",
       "      <td>8</td>\n",
       "    </tr>\n",
       "    <tr>\n",
       "      <th>1</th>\n",
       "      <td>176559</td>\n",
       "      <td>Bose SoundSport Headphones</td>\n",
       "      <td>2019-04-07 22:30:00</td>\n",
       "      <td>682 Chestnut St, Boston, MA 02215</td>\n",
       "      <td>1.0</td>\n",
       "      <td>99.99</td>\n",
       "      <td>4</td>\n",
       "      <td>99.99</td>\n",
       "      <td>Boston, MA</td>\n",
       "      <td>22</td>\n",
       "    </tr>\n",
       "    <tr>\n",
       "      <th>2</th>\n",
       "      <td>176560</td>\n",
       "      <td>Google Phone</td>\n",
       "      <td>2019-04-12 14:38:00</td>\n",
       "      <td>669 Spruce St, Los Angeles, CA 90001</td>\n",
       "      <td>1.0</td>\n",
       "      <td>600.00</td>\n",
       "      <td>4</td>\n",
       "      <td>600.00</td>\n",
       "      <td>Los Angeles, CA</td>\n",
       "      <td>14</td>\n",
       "    </tr>\n",
       "    <tr>\n",
       "      <th>3</th>\n",
       "      <td>176560</td>\n",
       "      <td>Wired Headphones</td>\n",
       "      <td>2019-04-12 14:38:00</td>\n",
       "      <td>669 Spruce St, Los Angeles, CA 90001</td>\n",
       "      <td>1.0</td>\n",
       "      <td>11.99</td>\n",
       "      <td>4</td>\n",
       "      <td>11.99</td>\n",
       "      <td>Los Angeles, CA</td>\n",
       "      <td>14</td>\n",
       "    </tr>\n",
       "    <tr>\n",
       "      <th>4</th>\n",
       "      <td>176561</td>\n",
       "      <td>Wired Headphones</td>\n",
       "      <td>2019-04-30 09:27:00</td>\n",
       "      <td>333 8th St, Los Angeles, CA 90001</td>\n",
       "      <td>1.0</td>\n",
       "      <td>11.99</td>\n",
       "      <td>4</td>\n",
       "      <td>11.99</td>\n",
       "      <td>Los Angeles, CA</td>\n",
       "      <td>9</td>\n",
       "    </tr>\n",
       "  </tbody>\n",
       "</table>\n",
       "</div>"
      ],
      "text/plain": [
       "  Order ID                     Product          Order Date  \\\n",
       "0   176558        USB-C Charging Cable 2019-04-19 08:46:00   \n",
       "1   176559  Bose SoundSport Headphones 2019-04-07 22:30:00   \n",
       "2   176560                Google Phone 2019-04-12 14:38:00   \n",
       "3   176560            Wired Headphones 2019-04-12 14:38:00   \n",
       "4   176561            Wired Headphones 2019-04-30 09:27:00   \n",
       "\n",
       "                       Purchase Address  Quantity_Ordered   Price  Month  \\\n",
       "0          917 1st St, Dallas, TX 75001               2.0   11.95      4   \n",
       "1     682 Chestnut St, Boston, MA 02215               1.0   99.99      4   \n",
       "2  669 Spruce St, Los Angeles, CA 90001               1.0  600.00      4   \n",
       "3  669 Spruce St, Los Angeles, CA 90001               1.0   11.99      4   \n",
       "4     333 8th St, Los Angeles, CA 90001               1.0   11.99      4   \n",
       "\n",
       "   Total Amount       City_State  Hour  \n",
       "0         23.90       Dallas, TX     8  \n",
       "1         99.99       Boston, MA    22  \n",
       "2        600.00  Los Angeles, CA    14  \n",
       "3         11.99  Los Angeles, CA    14  \n",
       "4         11.99  Los Angeles, CA     9  "
      ]
     },
     "execution_count": 56,
     "metadata": {},
     "output_type": "execute_result"
    }
   ],
   "source": [
    "all_data.head()"
   ]
  },
  {
   "cell_type": "markdown",
   "metadata": {},
   "source": [
    "### City comparision(Los Angeles vs New york city)\n",
    "- Most ordered products\n",
    "- Peak order time\n"
   ]
  },
  {
   "cell_type": "code",
   "execution_count": 57,
   "metadata": {},
   "outputs": [],
   "source": [
    "ny=all_data[all_data['City_State']=='New York City, NY']\n",
    "la= all_data[all_data['City_State']=='Los Angeles, CA']"
   ]
  },
  {
   "cell_type": "code",
   "execution_count": 58,
   "metadata": {},
   "outputs": [
    {
     "name": "stdout",
     "output_type": "stream",
     "text": [
      "29605\n",
      "24876\n"
     ]
    }
   ],
   "source": [
    "print(len(la))\n",
    "print(len(ny))"
   ]
  },
  {
   "cell_type": "code",
   "execution_count": 59,
   "metadata": {},
   "outputs": [
    {
     "name": "stdout",
     "output_type": "stream",
     "text": [
      "{'20in Monitor': 555, '27in 4K Gaming Monitor': 840, '27in FHD Monitor': 1069, '34in Ultrawide Monitor': 865, 'AA Batteries (4-pack)': 2675, 'AAA Batteries (4-pack)': 2773, 'Apple Airpods Headphones': 2079, 'Bose SoundSport Headphones': 1771, 'Flatscreen TV': 625, 'Google Phone': 758, 'LG Dryer': 77, 'LG Washing Machine': 85, 'Lightning Charging Cable': 2861, 'Macbook Pro Laptop': 656, 'ThinkPad Laptop': 559, 'USB-C Charging Cable': 2978, 'Vareebadd Phone': 279, 'Wired Headphones': 2490, 'iPhone': 881}\n"
     ]
    }
   ],
   "source": [
    "ny_pd=ny.groupby('Product')['Quantity_Ordered'].count().to_dict()\n",
    "print(ny_pd)"
   ]
  },
  {
   "cell_type": "code",
   "execution_count": 60,
   "metadata": {},
   "outputs": [
    {
     "data": {
      "image/png": "[encoded data removed]",
      "text/plain": [
       "<Figure size 600x400 with 1 Axes>"
      ]
     },
     "metadata": {},
     "output_type": "display_data"
    }
   ],
   "source": [
    "plt.figure(figsize=(6, 4))\n",
    "plt.bar(list(ny_pd.keys()), list(ny_pd.values()))\n",
    "plt.xlabel('Product')\n",
    "plt.ylabel('Quantity Ordered')\n",
    "plt.title('Total products ordered in New York City')\n",
    "plt.xticks(list(ny_pd.keys()),rotation='vertical') \n",
    "\n",
    "# Use ScalarFormatter to display plain numbers instead of scientific notation\n",
    "plt.gca().yaxis.set_major_formatter(ScalarFormatter(useOffset=False))\n",
    "plt.gca().yaxis.get_major_formatter().set_scientific(False)\n"
   ]
  },
  {
   "cell_type": "markdown",
   "metadata": {},
   "source": [
    "Most ordered products in **NYC** were:\n",
    "1. USB-C Charging Cable:     2978\n",
    "2. Lightning Charging Cable: 2861 \n",
    "3. AAA Batteries (4-pack):   2773\n",
    "4. AA Batteries (4-pack):    2675\n",
    "5. Wired Headphones:         2490\n"
   ]
  },
  {
   "cell_type": "code",
   "execution_count": 61,
   "metadata": {},
   "outputs": [
    {
     "name": "stdout",
     "output_type": "stream",
     "text": [
      "{'20in Monitor': 654, '27in 4K Gaming Monitor': 1003, '27in FHD Monitor': 1217, '34in Ultrawide Monitor': 953, 'AA Batteries (4-pack)': 3289, 'AAA Batteries (4-pack)': 3313, 'Apple Airpods Headphones': 2452, 'Bose SoundSport Headphones': 2099, 'Flatscreen TV': 724, 'Google Phone': 845, 'LG Dryer': 116, 'LG Washing Machine': 105, 'Lightning Charging Cable': 3512, 'Macbook Pro Laptop': 751, 'ThinkPad Laptop': 641, 'USB-C Charging Cable': 3454, 'Vareebadd Phone': 317, 'Wired Headphones': 3043, 'iPhone': 1117}\n"
     ]
    }
   ],
   "source": [
    "la_pd=la.groupby('Product')['Quantity_Ordered'].count().to_dict()\n",
    "print(la_pd)"
   ]
  },
  {
   "cell_type": "code",
   "execution_count": 62,
   "metadata": {},
   "outputs": [
    {
     "data": {
      "image/png": "[encoded data removed]",
      "text/plain": [
       "<Figure size 600x400 with 1 Axes>"
      ]
     },
     "metadata": {},
     "output_type": "display_data"
    }
   ],
   "source": [
    "plt.figure(figsize=(6, 4))\n",
    "plt.bar(list(la_pd.keys()), list(la_pd.values()))\n",
    "plt.xlabel('Product')\n",
    "plt.ylabel('Quantity Ordered')\n",
    "plt.title('Total products ordered in Los Angeles')\n",
    "plt.xticks(list(la_pd.keys()),rotation='vertical') \n",
    "\n",
    "# Use ScalarFormatter to display plain numbers instead of scientific notation\n",
    "plt.gca().yaxis.set_major_formatter(ScalarFormatter(useOffset=False))\n",
    "plt.gca().yaxis.get_major_formatter().set_scientific(False)\n"
   ]
  },
  {
   "cell_type": "markdown",
   "metadata": {},
   "source": [
    "Most ordered products in **L.A** were:\n",
    "1. Lightning Charging Cable:     3512\n",
    "2. USB-C Charging Cable:        3454 \n",
    "3. AAA Batteries (4-pack):   3313\n",
    "4. AA Batteries (4-pack):    3289\n",
    "5. Wired Headphones:         3043"
   ]
  },
  {
   "cell_type": "code",
   "execution_count": 63,
   "metadata": {},
   "outputs": [],
   "source": [
    "ny_no=ny.groupby('Hour')['Order ID'].count().to_dict()\n",
    "la_no=la.groupby('Hour')['Order ID'].count().to_dict()"
   ]
  },
  {
   "cell_type": "code",
   "execution_count": 64,
   "metadata": {},
   "outputs": [
    {
     "data": {
      "image/png": "[encoded data removed]",
      "text/plain": [
       "<Figure size 600x400 with 1 Axes>"
      ]
     },
     "metadata": {},
     "output_type": "display_data"
    }
   ],
   "source": [
    "plt.figure(figsize=(6, 4))\n",
    "plt.plot(list(ny_no.keys()), list(ny_no.values()))\n",
    "plt.xlabel('Hour')\n",
    "plt.ylabel('No. of Orders')\n",
    "plt.title('Orders vs Time in New York City')\n",
    "plt.grid(True)\n",
    "plt.xticks(list(ny_no.keys())) \n",
    "plt.show()\n"
   ]
  },
  {
   "cell_type": "markdown",
   "metadata": {},
   "source": [
    "- Most orders in NYC came around 7 p.m "
   ]
  },
  {
   "cell_type": "code",
   "execution_count": 65,
   "metadata": {},
   "outputs": [
    {
     "data": {
      "image/png": "[encoded data removed]",
      "text/plain": [
       "<Figure size 600x400 with 1 Axes>"
      ]
     },
     "metadata": {},
     "output_type": "display_data"
    }
   ],
   "source": [
    "plt.figure(figsize=(6, 4))\n",
    "plt.plot(list(la_no.keys()), list(la_no.values()))\n",
    "plt.xlabel('Hour')\n",
    "plt.ylabel('No. of Orders')\n",
    "plt.title('Orders vs Time in New York City')\n",
    "plt.grid(True)\n",
    "plt.xticks(list(la_no.keys())) \n",
    "plt.show()\n"
   ]
  },
  {
   "cell_type": "markdown",
   "metadata": {},
   "source": [
    "- Most orders in LA came around 11 a.m closely followed by 7pm"
   ]
  },
  {
   "cell_type": "markdown",
   "metadata": {},
   "source": [
    "Key Findings:\n",
    "- NYC and LA exhibited almost the same sales patterns.\n",
    "- Similar sales strategies could be used for these two cities "
   ]
  },
  {
   "cell_type": "markdown",
   "metadata": {},
   "source": [
    "### Analyzing Sales by Time period(Quarterly).\n"
   ]
  },
  {
   "cell_type": "code",
   "execution_count": 67,
   "metadata": {},
   "outputs": [],
   "source": [
    "#assigning months to quarters\n",
    "all_data['Quarter'] = pd.cut(all_data['Month'],\n",
    "                       bins=[0, 3, 6, 9, 12],  # Define the edges of the bins\n",
    "                       labels=['Q1', 'Q2', 'Q3', 'Q4'],  # Labels for the bins\n",
    "                       include_lowest=True)  # Include the first bin's left edge\n"
   ]
  },
  {
   "cell_type": "code",
   "execution_count": 68,
   "metadata": {},
   "outputs": [
    {
     "data": {
      "text/html": [
       "<div>\n",
       "<style scoped>\n",
       "    .dataframe tbody tr th:only-of-type {\n",
       "        vertical-align: middle;\n",
       "    }\n",
       "\n",
       "    .dataframe tbody tr th {\n",
       "        vertical-align: top;\n",
       "    }\n",
       "\n",
       "    .dataframe thead th {\n",
       "        text-align: right;\n",
       "    }\n",
       "</style>\n",
       "<table border=\"1\" class=\"dataframe\">\n",
       "  <thead>\n",
       "    <tr style=\"text-align: right;\">\n",
       "      <th></th>\n",
       "      <th>Order ID</th>\n",
       "      <th>Product</th>\n",
       "      <th>Order Date</th>\n",
       "      <th>Purchase Address</th>\n",
       "      <th>Quantity_Ordered</th>\n",
       "      <th>Price</th>\n",
       "      <th>Month</th>\n",
       "      <th>Total Amount</th>\n",
       "      <th>City_State</th>\n",
       "      <th>Hour</th>\n",
       "      <th>Quarter</th>\n",
       "    </tr>\n",
       "  </thead>\n",
       "  <tbody>\n",
       "    <tr>\n",
       "      <th>120995</th>\n",
       "      <td>195130</td>\n",
       "      <td>AAA Batteries (4-pack)</td>\n",
       "      <td>2019-05-08 15:38:00</td>\n",
       "      <td>444 Hill St, New York City, NY 10001</td>\n",
       "      <td>1.0</td>\n",
       "      <td>2.99</td>\n",
       "      <td>5</td>\n",
       "      <td>2.99</td>\n",
       "      <td>New York City, NY</td>\n",
       "      <td>15</td>\n",
       "      <td>Q2</td>\n",
       "    </tr>\n",
       "    <tr>\n",
       "      <th>87113</th>\n",
       "      <td>232745</td>\n",
       "      <td>USB-C Charging Cable</td>\n",
       "      <td>2019-07-02 22:10:00</td>\n",
       "      <td>880 Cherry St, San Francisco, CA 94016</td>\n",
       "      <td>1.0</td>\n",
       "      <td>11.95</td>\n",
       "      <td>7</td>\n",
       "      <td>11.95</td>\n",
       "      <td>San Francisco, CA</td>\n",
       "      <td>22</td>\n",
       "      <td>Q3</td>\n",
       "    </tr>\n",
       "    <tr>\n",
       "      <th>27932</th>\n",
       "      <td>245937</td>\n",
       "      <td>Wired Headphones</td>\n",
       "      <td>2019-08-31 07:43:00</td>\n",
       "      <td>412 Madison St, San Francisco, CA 94016</td>\n",
       "      <td>1.0</td>\n",
       "      <td>11.99</td>\n",
       "      <td>8</td>\n",
       "      <td>11.99</td>\n",
       "      <td>San Francisco, CA</td>\n",
       "      <td>7</td>\n",
       "      <td>Q3</td>\n",
       "    </tr>\n",
       "  </tbody>\n",
       "</table>\n",
       "</div>"
      ],
      "text/plain": [
       "       Order ID                 Product          Order Date  \\\n",
       "120995   195130  AAA Batteries (4-pack) 2019-05-08 15:38:00   \n",
       "87113    232745    USB-C Charging Cable 2019-07-02 22:10:00   \n",
       "27932    245937        Wired Headphones 2019-08-31 07:43:00   \n",
       "\n",
       "                               Purchase Address  Quantity_Ordered  Price  \\\n",
       "120995     444 Hill St, New York City, NY 10001               1.0   2.99   \n",
       "87113    880 Cherry St, San Francisco, CA 94016               1.0  11.95   \n",
       "27932   412 Madison St, San Francisco, CA 94016               1.0  11.99   \n",
       "\n",
       "        Month  Total Amount         City_State  Hour Quarter  \n",
       "120995      5          2.99  New York City, NY    15      Q2  \n",
       "87113       7         11.95  San Francisco, CA    22      Q3  \n",
       "27932       8         11.99  San Francisco, CA     7      Q3  "
      ]
     },
     "execution_count": 68,
     "metadata": {},
     "output_type": "execute_result"
    }
   ],
   "source": [
    "all_data.sample(3)"
   ]
  },
  {
   "cell_type": "code",
   "execution_count": 69,
   "metadata": {},
   "outputs": [],
   "source": [
    "quarterly_sales=all_data.groupby(['Product','Quarter'])['Total Amount'].sum().unstack().fillna(0)"
   ]
  },
  {
   "cell_type": "code",
   "execution_count": 70,
   "metadata": {},
   "outputs": [
    {
     "name": "stdout",
     "output_type": "stream",
     "text": [
      "Quarter                             Q1          Q2          Q3          Q4\n",
      "Product                                                                   \n",
      "20in Monitor                  86892.10   116149.44    95141.35   155965.82\n",
      "27in 4K Gaming Monitor       475397.81   607994.41   508546.96   843158.38\n",
      "27in FHD Monitor             225734.95   298780.08   237134.19   370775.28\n",
      "34in Ultrawide Monitor       476507.46   628123.47   463967.79   786959.29\n",
      "AA Batteries (4-pack)         20640.00    28035.84    21772.80    35669.76\n",
      "AAA Batteries (4-pack)        18092.49    24003.72    18863.91    31780.71\n",
      "Apple Airpods Headphones     472800.00   607650.00   479700.00   789000.00\n",
      "Bose SoundSport Headphones   270072.99   344565.54   276872.31   454054.59\n",
      "Flatscreen TV                275700.00   367800.00   307200.00   495000.00\n",
      "Google Phone                 697800.00   870600.00   667800.00  1083000.00\n",
      "LG Dryer                      75600.00   118200.00    78600.00   115200.00\n",
      "LG Washing Machine            87600.00   108000.00    87600.00   116400.00\n",
      "Lightning Charging Cable      67678.65    91718.25    70055.70   117641.55\n",
      "Macbook Pro Laptop          1513000.00  2167500.00  1623500.00  2733600.00\n",
      "ThinkPad Laptop              838991.61  1074989.25   841991.58  1373986.26\n",
      "USB-C Charging Cable          58375.75    71843.40    58614.75    97667.35\n",
      "Vareebadd Phone              171600.00   224000.00   166000.00   265600.00\n",
      "Wired Headphones              48295.72    64925.85    49842.43    83414.43\n",
      "iPhone                       950600.00  1306200.00   936600.00  1600900.00\n"
     ]
    }
   ],
   "source": [
    "print(quarterly_sales)"
   ]
  },
  {
   "cell_type": "code",
   "execution_count": 71,
   "metadata": {},
   "outputs": [
    {
     "data": {
      "application/vnd.plotly.v1+json": {
       "config": {
        "plotlyServerURL": "https://plot.ly"
       },
       "data": [
        {
         "mode": "lines+markers",
         "name": "20in Monitor",
         "type": "scatter",
         "x": [
          "Q1",
          "Q2",
          "Q3",
          "Q4"
         ],
         "y": [
          86892.09999999999,
          116149.43999999999,
          95141.34999999999,
          155965.82
         ]
        },
        {
         "legendgroup": "max_sales",
         "marker": {
          "color": "green",
          "size": 10
         },
         "mode": "markers",
         "name": "Max Sales",
         "showlegend": true,
         "type": "scatter",
         "x": [
          "Q4"
         ],
         "y": [
          155965.82
         ]
        },
        {
         "legendgroup": "min_sales",
         "marker": {
          "color": "red",
          "size": 10
         },
         "mode": "markers",
         "name": "Min Sales",
         "showlegend": true,
         "type": "scatter",
         "x": [
          "Q1"
         ],
         "y": [
          86892.09999999999
         ]
        },
        {
         "mode": "lines+markers",
         "name": "27in 4K Gaming Monitor",
         "type": "scatter",
         "x": [
          "Q1",
          "Q2",
          "Q3",
          "Q4"
         ],
         "y": [
          475397.81,
          607994.41,
          508546.96,
          843158.38
         ]
        },
        {
         "legendgroup": "max_sales",
         "marker": {
          "color": "green",
          "size": 10
         },
         "mode": "markers",
         "showlegend": false,
         "type": "scatter",
         "x": [
          "Q4"
         ],
         "y": [
          843158.38
         ]
        },
        {
         "legendgroup": "min_sales",
         "marker": {
          "color": "red",
          "size": 10
         },
         "mode": "markers",
         "showlegend": false,
         "type": "scatter",
         "x": [
          "Q1"
         ],
         "y": [
          475397.81
         ]
        },
        {
         "mode": "lines+markers",
         "name": "27in FHD Monitor",
         "type": "scatter",
         "x": [
          "Q1",
          "Q2",
          "Q3",
          "Q4"
         ],
         "y": [
          225734.95,
          298780.08,
          237134.19,
          370775.28
         ]
        },
        {
         "legendgroup": "max_sales",
         "marker": {
          "color": "green",
          "size": 10
         },
         "mode": "markers",
         "showlegend": false,
         "type": "scatter",
         "x": [
          "Q4"
         ],
         "y": [
          370775.28
         ]
        },
        {
         "legendgroup": "min_sales",
         "marker": {
          "color": "red",
          "size": 10
         },
         "mode": "markers",
         "showlegend": false,
         "type": "scatter",
         "x": [
          "Q1"
         ],
         "y": [
          225734.95
         ]
        },
        {
         "mode": "lines+markers",
         "name": "34in Ultrawide Monitor",
         "type": "scatter",
         "x": [
          "Q1",
          "Q2",
          "Q3",
          "Q4"
         ],
         "y": [
          476507.46,
          628123.47,
          463967.79000000004,
          786959.29
         ]
        },
        {
         "legendgroup": "max_sales",
         "marker": {
          "color": "green",
          "size": 10
         },
         "mode": "markers",
         "showlegend": false,
         "type": "scatter",
         "x": [
          "Q4"
         ],
         "y": [
          786959.29
         ]
        },
        {
         "legendgroup": "min_sales",
         "marker": {
          "color": "red",
          "size": 10
         },
         "mode": "markers",
         "showlegend": false,
         "type": "scatter",
         "x": [
          "Q3"
         ],
         "y": [
          463967.79000000004
         ]
        },
        {
         "mode": "lines+markers",
         "name": "AA Batteries (4-pack)",
         "type": "scatter",
         "x": [
          "Q1",
          "Q2",
          "Q3",
          "Q4"
         ],
         "y": [
          20640,
          28035.84,
          21772.8,
          35669.76
         ]
        },
        {
         "legendgroup": "max_sales",
         "marker": {
          "color": "green",
          "size": 10
         },
         "mode": "markers",
         "showlegend": false,
         "type": "scatter",
         "x": [
          "Q4"
         ],
         "y": [
          35669.76
         ]
        },
        {
         "legendgroup": "min_sales",
         "marker": {
          "color": "red",
          "size": 10
         },
         "mode": "markers",
         "showlegend": false,
         "type": "scatter",
         "x": [
          "Q1"
         ],
         "y": [
          20640
         ]
        },
        {
         "mode": "lines+markers",
         "name": "AAA Batteries (4-pack)",
         "type": "scatter",
         "x": [
          "Q1",
          "Q2",
          "Q3",
          "Q4"
         ],
         "y": [
          18092.49,
          24003.72,
          18863.91,
          31780.710000000003
         ]
        },
        {
         "legendgroup": "max_sales",
         "marker": {
          "color": "green",
          "size": 10
         },
         "mode": "markers",
         "showlegend": false,
         "type": "scatter",
         "x": [
          "Q4"
         ],
         "y": [
          31780.710000000003
         ]
        },
        {
         "legendgroup": "min_sales",
         "marker": {
          "color": "red",
          "size": 10
         },
         "mode": "markers",
         "showlegend": false,
         "type": "scatter",
         "x": [
          "Q1"
         ],
         "y": [
          18092.49
         ]
        },
        {
         "mode": "lines+markers",
         "name": "Apple Airpods Headphones",
         "type": "scatter",
         "x": [
          "Q1",
          "Q2",
          "Q3",
          "Q4"
         ],
         "y": [
          472800,
          607650,
          479700,
          789000
         ]
        },
        {
         "legendgroup": "max_sales",
         "marker": {
          "color": "green",
          "size": 10
         },
         "mode": "markers",
         "showlegend": false,
         "type": "scatter",
         "x": [
          "Q4"
         ],
         "y": [
          789000
         ]
        },
        {
         "legendgroup": "min_sales",
         "marker": {
          "color": "red",
          "size": 10
         },
         "mode": "markers",
         "showlegend": false,
         "type": "scatter",
         "x": [
          "Q1"
         ],
         "y": [
          472800
         ]
        },
        {
         "mode": "lines+markers",
         "name": "Bose SoundSport Headphones",
         "type": "scatter",
         "x": [
          "Q1",
          "Q2",
          "Q3",
          "Q4"
         ],
         "y": [
          270072.99,
          344565.54,
          276872.31,
          454054.58999999997
         ]
        },
        {
         "legendgroup": "max_sales",
         "marker": {
          "color": "green",
          "size": 10
         },
         "mode": "markers",
         "showlegend": false,
         "type": "scatter",
         "x": [
          "Q4"
         ],
         "y": [
          454054.58999999997
         ]
        },
        {
         "legendgroup": "min_sales",
         "marker": {
          "color": "red",
          "size": 10
         },
         "mode": "markers",
         "showlegend": false,
         "type": "scatter",
         "x": [
          "Q1"
         ],
         "y": [
          270072.99
         ]
        },
        {
         "mode": "lines+markers",
         "name": "Flatscreen TV",
         "type": "scatter",
         "x": [
          "Q1",
          "Q2",
          "Q3",
          "Q4"
         ],
         "y": [
          275700,
          367800,
          307200,
          495000
         ]
        },
        {
         "legendgroup": "max_sales",
         "marker": {
          "color": "green",
          "size": 10
         },
         "mode": "markers",
         "showlegend": false,
         "type": "scatter",
         "x": [
          "Q4"
         ],
         "y": [
          495000
         ]
        },
        {
         "legendgroup": "min_sales",
         "marker": {
          "color": "red",
          "size": 10
         },
         "mode": "markers",
         "showlegend": false,
         "type": "scatter",
         "x": [
          "Q1"
         ],
         "y": [
          275700
         ]
        },
        {
         "mode": "lines+markers",
         "name": "Google Phone",
         "type": "scatter",
         "x": [
          "Q1",
          "Q2",
          "Q3",
          "Q4"
         ],
         "y": [
          697800,
          870600,
          667800,
          1083000
         ]
        },
        {
         "legendgroup": "max_sales",
         "marker": {
          "color": "green",
          "size": 10
         },
         "mode": "markers",
         "showlegend": false,
         "type": "scatter",
         "x": [
          "Q4"
         ],
         "y": [
          1083000
         ]
        },
        {
         "legendgroup": "min_sales",
         "marker": {
          "color": "red",
          "size": 10
         },
         "mode": "markers",
         "showlegend": false,
         "type": "scatter",
         "x": [
          "Q3"
         ],
         "y": [
          667800
         ]
        },
        {
         "mode": "lines+markers",
         "name": "LG Dryer",
         "type": "scatter",
         "x": [
          "Q1",
          "Q2",
          "Q3",
          "Q4"
         ],
         "y": [
          75600,
          118200,
          78600,
          115200
         ]
        },
        {
         "legendgroup": "max_sales",
         "marker": {
          "color": "green",
          "size": 10
         },
         "mode": "markers",
         "showlegend": false,
         "type": "scatter",
         "x": [
          "Q2"
         ],
         "y": [
          118200
         ]
        },
        {
         "legendgroup": "min_sales",
         "marker": {
          "color": "red",
          "size": 10
         },
         "mode": "markers",
         "showlegend": false,
         "type": "scatter",
         "x": [
          "Q1"
         ],
         "y": [
          75600
         ]
        },
        {
         "mode": "lines+markers",
         "name": "LG Washing Machine",
         "type": "scatter",
         "x": [
          "Q1",
          "Q2",
          "Q3",
          "Q4"
         ],
         "y": [
          87600,
          108000,
          87600,
          116400
         ]
        },
        {
         "legendgroup": "max_sales",
         "marker": {
          "color": "green",
          "size": 10
         },
         "mode": "markers",
         "showlegend": false,
         "type": "scatter",
         "x": [
          "Q4"
         ],
         "y": [
          116400
         ]
        },
        {
         "legendgroup": "min_sales",
         "marker": {
          "color": "red",
          "size": 10
         },
         "mode": "markers",
         "showlegend": false,
         "type": "scatter",
         "x": [
          "Q1"
         ],
         "y": [
          87600
         ]
        },
        {
         "mode": "lines+markers",
         "name": "Lightning Charging Cable",
         "type": "scatter",
         "x": [
          "Q1",
          "Q2",
          "Q3",
          "Q4"
         ],
         "y": [
          67678.65,
          91718.25,
          70055.7,
          117641.54999999999
         ]
        },
        {
         "legendgroup": "max_sales",
         "marker": {
          "color": "green",
          "size": 10
         },
         "mode": "markers",
         "showlegend": false,
         "type": "scatter",
         "x": [
          "Q4"
         ],
         "y": [
          117641.54999999999
         ]
        },
        {
         "legendgroup": "min_sales",
         "marker": {
          "color": "red",
          "size": 10
         },
         "mode": "markers",
         "showlegend": false,
         "type": "scatter",
         "x": [
          "Q1"
         ],
         "y": [
          67678.65
         ]
        },
        {
         "mode": "lines+markers",
         "name": "Macbook Pro Laptop",
         "type": "scatter",
         "x": [
          "Q1",
          "Q2",
          "Q3",
          "Q4"
         ],
         "y": [
          1513000,
          2167500,
          1623500,
          2733600
         ]
        },
        {
         "legendgroup": "max_sales",
         "marker": {
          "color": "green",
          "size": 10
         },
         "mode": "markers",
         "showlegend": false,
         "type": "scatter",
         "x": [
          "Q4"
         ],
         "y": [
          2733600
         ]
        },
        {
         "legendgroup": "min_sales",
         "marker": {
          "color": "red",
          "size": 10
         },
         "mode": "markers",
         "showlegend": false,
         "type": "scatter",
         "x": [
          "Q1"
         ],
         "y": [
          1513000
         ]
        },
        {
         "mode": "lines+markers",
         "name": "ThinkPad Laptop",
         "type": "scatter",
         "x": [
          "Q1",
          "Q2",
          "Q3",
          "Q4"
         ],
         "y": [
          838991.61,
          1074989.25,
          841991.58,
          1373986.26
         ]
        },
        {
         "legendgroup": "max_sales",
         "marker": {
          "color": "green",
          "size": 10
         },
         "mode": "markers",
         "showlegend": false,
         "type": "scatter",
         "x": [
          "Q4"
         ],
         "y": [
          1373986.26
         ]
        },
        {
         "legendgroup": "min_sales",
         "marker": {
          "color": "red",
          "size": 10
         },
         "mode": "markers",
         "showlegend": false,
         "type": "scatter",
         "x": [
          "Q1"
         ],
         "y": [
          838991.61
         ]
        },
        {
         "mode": "lines+markers",
         "name": "USB-C Charging Cable",
         "type": "scatter",
         "x": [
          "Q1",
          "Q2",
          "Q3",
          "Q4"
         ],
         "y": [
          58375.75,
          71843.4,
          58614.75,
          97667.34999999999
         ]
        },
        {
         "legendgroup": "max_sales",
         "marker": {
          "color": "green",
          "size": 10
         },
         "mode": "markers",
         "showlegend": false,
         "type": "scatter",
         "x": [
          "Q4"
         ],
         "y": [
          97667.34999999999
         ]
        },
        {
         "legendgroup": "min_sales",
         "marker": {
          "color": "red",
          "size": 10
         },
         "mode": "markers",
         "showlegend": false,
         "type": "scatter",
         "x": [
          "Q1"
         ],
         "y": [
          58375.75
         ]
        },
        {
         "mode": "lines+markers",
         "name": "Vareebadd Phone",
         "type": "scatter",
         "x": [
          "Q1",
          "Q2",
          "Q3",
          "Q4"
         ],
         "y": [
          171600,
          224000,
          166000,
          265600
         ]
        },
        {
         "legendgroup": "max_sales",
         "marker": {
          "color": "green",
          "size": 10
         },
         "mode": "markers",
         "showlegend": false,
         "type": "scatter",
         "x": [
          "Q4"
         ],
         "y": [
          265600
         ]
        },
        {
         "legendgroup": "min_sales",
         "marker": {
          "color": "red",
          "size": 10
         },
         "mode": "markers",
         "showlegend": false,
         "type": "scatter",
         "x": [
          "Q3"
         ],
         "y": [
          166000
         ]
        },
        {
         "mode": "lines+markers",
         "name": "Wired Headphones",
         "type": "scatter",
         "x": [
          "Q1",
          "Q2",
          "Q3",
          "Q4"
         ],
         "y": [
          48295.72,
          64925.85,
          49842.43,
          83414.43000000001
         ]
        },
        {
         "legendgroup": "max_sales",
         "marker": {
          "color": "green",
          "size": 10
         },
         "mode": "markers",
         "showlegend": false,
         "type": "scatter",
         "x": [
          "Q4"
         ],
         "y": [
          83414.43000000001
         ]
        },
        {
         "legendgroup": "min_sales",
         "marker": {
          "color": "red",
          "size": 10
         },
         "mode": "markers",
         "showlegend": false,
         "type": "scatter",
         "x": [
          "Q1"
         ],
         "y": [
          48295.72
         ]
        },
        {
         "mode": "lines+markers",
         "name": "iPhone",
         "type": "scatter",
         "x": [
          "Q1",
          "Q2",
          "Q3",
          "Q4"
         ],
         "y": [
          950600,
          1306200,
          936600,
          1600900
         ]
        },
        {
         "legendgroup": "max_sales",
         "marker": {
          "color": "green",
          "size": 10
         },
         "mode": "markers",
         "showlegend": false,
         "type": "scatter",
         "x": [
          "Q4"
         ],
         "y": [
          1600900
         ]
        },
        {
         "legendgroup": "min_sales",
         "marker": {
          "color": "red",
          "size": 10
         },
         "mode": "markers",
         "showlegend": false,
         "type": "scatter",
         "x": [
          "Q3"
         ],
         "y": [
          936600
         ]
        }
       ],
       "layout": {
        "font": {
         "color": "white"
        },
        "height": 600,
        "hovermode": "x unified",
        "legend": {
         "title": {
          "text": "Legend"
         }
        },
        "paper_bgcolor": "black",
        "plot_bgcolor": "black",
        "template": {
         "data": {
          "bar": [
           {
            "error_x": {
             "color": "#2a3f5f"
            },
            "error_y": {
             "color": "#2a3f5f"
            },
            "marker": {
             "line": {
              "color": "#E5ECF6",
              "width": 0.5
             },
             "pattern": {
              "fillmode": "overlay",
              "size": 10,
              "solidity": 0.2
             }
            },
            "type": "bar"
           }
          ],
          "barpolar": [
           {
            "marker": {
             "line": {
              "color": "#E5ECF6",
              "width": 0.5
             },
             "pattern": {
              "fillmode": "overlay",
              "size": 10,
              "solidity": 0.2
             }
            },
            "type": "barpolar"
           }
          ],
          "carpet": [
           {
            "aaxis": {
             "endlinecolor": "#2a3f5f",
             "gridcolor": "white",
             "linecolor": "white",
             "minorgridcolor": "white",
             "startlinecolor": "#2a3f5f"
            },
            "baxis": {
             "endlinecolor": "#2a3f5f",
             "gridcolor": "white",
             "linecolor": "white",
             "minorgridcolor": "white",
             "startlinecolor": "#2a3f5f"
            },
            "type": "carpet"
           }
          ],
          "choropleth": [
           {
            "colorbar": {
             "outlinewidth": 0,
             "ticks": ""
            },
            "type": "choropleth"
           }
          ],
          "contour": [
           {
            "colorbar": {
             "outlinewidth": 0,
             "ticks": ""
            },
            "colorscale": [
             [
              0,
              "#0d0887"
             ],
             [
              0.1111111111111111,
              "#46039f"
             ],
             [
              0.2222222222222222,
              "#7201a8"
             ],
             [
              0.3333333333333333,
              "#9c179e"
             ],
             [
              0.4444444444444444,
              "#bd3786"
             ],
             [
              0.5555555555555556,
              "#d8576b"
             ],
             [
              0.6666666666666666,
              "#ed7953"
             ],
             [
              0.7777777777777778,
              "#fb9f3a"
             ],
             [
              0.8888888888888888,
              "#fdca26"
             ],
             [
              1,
              "#f0f921"
             ]
            ],
            "type": "contour"
           }
          ],
          "contourcarpet": [
           {
            "colorbar": {
             "outlinewidth": 0,
             "ticks": ""
            },
            "type": "contourcarpet"
           }
          ],
          "heatmap": [
           {
            "colorbar": {
             "outlinewidth": 0,
             "ticks": ""
            },
            "colorscale": [
             [
              0,
              "#0d0887"
             ],
             [
              0.1111111111111111,
              "#46039f"
             ],
             [
              0.2222222222222222,
              "#7201a8"
             ],
             [
              0.3333333333333333,
              "#9c179e"
             ],
             [
              0.4444444444444444,
              "#bd3786"
             ],
             [
              0.5555555555555556,
              "#d8576b"
             ],
             [
              0.6666666666666666,
              "#ed7953"
             ],
             [
              0.7777777777777778,
              "#fb9f3a"
             ],
             [
              0.8888888888888888,
              "#fdca26"
             ],
             [
              1,
              "#f0f921"
             ]
            ],
            "type": "heatmap"
           }
          ],
          "heatmapgl": [
           {
            "colorbar": {
             "outlinewidth": 0,
             "ticks": ""
            },
            "colorscale": [
             [
              0,
              "#0d0887"
             ],
             [
              0.1111111111111111,
              "#46039f"
             ],
             [
              0.2222222222222222,
              "#7201a8"
             ],
             [
              0.3333333333333333,
              "#9c179e"
             ],
             [
              0.4444444444444444,
              "#bd3786"
             ],
             [
              0.5555555555555556,
              "#d8576b"
             ],
             [
              0.6666666666666666,
              "#ed7953"
             ],
             [
              0.7777777777777778,
              "#fb9f3a"
             ],
             [
              0.8888888888888888,
              "#fdca26"
             ],
             [
              1,
              "#f0f921"
             ]
            ],
            "type": "heatmapgl"
           }
          ],
          "histogram": [
           {
            "marker": {
             "pattern": {
              "fillmode": "overlay",
              "size": 10,
              "solidity": 0.2
             }
            },
            "type": "histogram"
           }
          ],
          "histogram2d": [
           {
            "colorbar": {
             "outlinewidth": 0,
             "ticks": ""
            },
            "colorscale": [
             [
              0,
              "#0d0887"
             ],
             [
              0.1111111111111111,
              "#46039f"
             ],
             [
              0.2222222222222222,
              "#7201a8"
             ],
             [
              0.3333333333333333,
              "#9c179e"
             ],
             [
              0.4444444444444444,
              "#bd3786"
             ],
             [
              0.5555555555555556,
              "#d8576b"
             ],
             [
              0.6666666666666666,
              "#ed7953"
             ],
             [
              0.7777777777777778,
              "#fb9f3a"
             ],
             [
              0.8888888888888888,
              "#fdca26"
             ],
             [
              1,
              "#f0f921"
             ]
            ],
            "type": "histogram2d"
           }
          ],
          "histogram2dcontour": [
           {
            "colorbar": {
             "outlinewidth": 0,
             "ticks": ""
            },
            "colorscale": [
             [
              0,
              "#0d0887"
             ],
             [
              0.1111111111111111,
              "#46039f"
             ],
             [
              0.2222222222222222,
              "#7201a8"
             ],
             [
              0.3333333333333333,
              "#9c179e"
             ],
             [
              0.4444444444444444,
              "#bd3786"
             ],
             [
              0.5555555555555556,
              "#d8576b"
             ],
             [
              0.6666666666666666,
              "#ed7953"
             ],
             [
              0.7777777777777778,
              "#fb9f3a"
             ],
             [
              0.8888888888888888,
              "#fdca26"
             ],
             [
              1,
              "#f0f921"
             ]
            ],
            "type": "histogram2dcontour"
           }
          ],
          "mesh3d": [
           {
            "colorbar": {
             "outlinewidth": 0,
             "ticks": ""
            },
            "type": "mesh3d"
           }
          ],
          "parcoords": [
           {
            "line": {
             "colorbar": {
              "outlinewidth": 0,
              "ticks": ""
             }
            },
            "type": "parcoords"
           }
          ],
          "pie": [
           {
            "automargin": true,
            "type": "pie"
           }
          ],
          "scatter": [
           {
            "fillpattern": {
             "fillmode": "overlay",
             "size": 10,
             "solidity": 0.2
            },
            "type": "scatter"
           }
          ],
          "scatter3d": [
           {
            "line": {
             "colorbar": {
              "outlinewidth": 0,
              "ticks": ""
             }
            },
            "marker": {
             "colorbar": {
              "outlinewidth": 0,
              "ticks": ""
             }
            },
            "type": "scatter3d"
           }
          ],
          "scattercarpet": [
           {
            "marker": {
             "colorbar": {
              "outlinewidth": 0,
              "ticks": ""
             }
            },
            "type": "scattercarpet"
           }
          ],
          "scattergeo": [
           {
            "marker": {
             "colorbar": {
              "outlinewidth": 0,
              "ticks": ""
             }
            },
            "type": "scattergeo"
           }
          ],
          "scattergl": [
           {
            "marker": {
             "colorbar": {
              "outlinewidth": 0,
              "ticks": ""
             }
            },
            "type": "scattergl"
           }
          ],
          "scattermapbox": [
           {
            "marker": {
             "colorbar": {
              "outlinewidth": 0,
              "ticks": ""
             }
            },
            "type": "scattermapbox"
           }
          ],
          "scatterpolar": [
           {
            "marker": {
             "colorbar": {
              "outlinewidth": 0,
              "ticks": ""
             }
            },
            "type": "scatterpolar"
           }
          ],
          "scatterpolargl": [
           {
            "marker": {
             "colorbar": {
              "outlinewidth": 0,
              "ticks": ""
             }
            },
            "type": "scatterpolargl"
           }
          ],
          "scatterternary": [
           {
            "marker": {
             "colorbar": {
              "outlinewidth": 0,
              "ticks": ""
             }
            },
            "type": "scatterternary"
           }
          ],
          "surface": [
           {
            "colorbar": {
             "outlinewidth": 0,
             "ticks": ""
            },
            "colorscale": [
             [
              0,
              "#0d0887"
             ],
             [
              0.1111111111111111,
              "#46039f"
             ],
             [
              0.2222222222222222,
              "#7201a8"
             ],
             [
              0.3333333333333333,
              "#9c179e"
             ],
             [
              0.4444444444444444,
              "#bd3786"
             ],
             [
              0.5555555555555556,
              "#d8576b"
             ],
             [
              0.6666666666666666,
              "#ed7953"
             ],
             [
              0.7777777777777778,
              "#fb9f3a"
             ],
             [
              0.8888888888888888,
              "#fdca26"
             ],
             [
              1,
              "#f0f921"
             ]
            ],
            "type": "surface"
           }
          ],
          "table": [
           {
            "cells": {
             "fill": {
              "color": "#EBF0F8"
             },
             "line": {
              "color": "white"
             }
            },
            "header": {
             "fill": {
              "color": "#C8D4E3"
             },
             "line": {
              "color": "white"
             }
            },
            "type": "table"
           }
          ]
         },
         "layout": {
          "annotationdefaults": {
           "arrowcolor": "#2a3f5f",
           "arrowhead": 0,
           "arrowwidth": 1
          },
          "autotypenumbers": "strict",
          "coloraxis": {
           "colorbar": {
            "outlinewidth": 0,
            "ticks": ""
           }
          },
          "colorscale": {
           "diverging": [
            [
             0,
             "#8e0152"
            ],
            [
             0.1,
             "#c51b7d"
            ],
            [
             0.2,
             "#de77ae"
            ],
            [
             0.3,
             "#f1b6da"
            ],
            [
             0.4,
             "#fde0ef"
            ],
            [
             0.5,
             "#f7f7f7"
            ],
            [
             0.6,
             "#e6f5d0"
            ],
            [
             0.7,
             "#b8e186"
            ],
            [
             0.8,
             "#7fbc41"
            ],
            [
             0.9,
             "#4d9221"
            ],
            [
             1,
             "#276419"
            ]
           ],
           "sequential": [
            [
             0,
             "#0d0887"
            ],
            [
             0.1111111111111111,
             "#46039f"
            ],
            [
             0.2222222222222222,
             "#7201a8"
            ],
            [
             0.3333333333333333,
             "#9c179e"
            ],
            [
             0.4444444444444444,
             "#bd3786"
            ],
            [
             0.5555555555555556,
             "#d8576b"
            ],
            [
             0.6666666666666666,
             "#ed7953"
            ],
            [
             0.7777777777777778,
             "#fb9f3a"
            ],
            [
             0.8888888888888888,
             "#fdca26"
            ],
            [
             1,
             "#f0f921"
            ]
           ],
           "sequentialminus": [
            [
             0,
             "#0d0887"
            ],
            [
             0.1111111111111111,
             "#46039f"
            ],
            [
             0.2222222222222222,
             "#7201a8"
            ],
            [
             0.3333333333333333,
             "#9c179e"
            ],
            [
             0.4444444444444444,
             "#bd3786"
            ],
            [
             0.5555555555555556,
             "#d8576b"
            ],
            [
             0.6666666666666666,
             "#ed7953"
            ],
            [
             0.7777777777777778,
             "#fb9f3a"
            ],
            [
             0.8888888888888888,
             "#fdca26"
            ],
            [
             1,
             "#f0f921"
            ]
           ]
          },
          "colorway": [
           "#636efa",
           "#EF553B",
           "#00cc96",
           "#ab63fa",
           "#FFA15A",
           "#19d3f3",
           "#FF6692",
           "#B6E880",
           "#FF97FF",
           "#FECB52"
          ],
          "font": {
           "color": "#2a3f5f"
          },
          "geo": {
           "bgcolor": "white",
           "lakecolor": "white",
           "landcolor": "#E5ECF6",
           "showlakes": true,
           "showland": true,
           "subunitcolor": "white"
          },
          "hoverlabel": {
           "align": "left"
          },
          "hovermode": "closest",
          "mapbox": {
           "style": "light"
          },
          "paper_bgcolor": "white",
          "plot_bgcolor": "#E5ECF6",
          "polar": {
           "angularaxis": {
            "gridcolor": "white",
            "linecolor": "white",
            "ticks": ""
           },
           "bgcolor": "#E5ECF6",
           "radialaxis": {
            "gridcolor": "white",
            "linecolor": "white",
            "ticks": ""
           }
          },
          "scene": {
           "xaxis": {
            "backgroundcolor": "#E5ECF6",
            "gridcolor": "white",
            "gridwidth": 2,
            "linecolor": "white",
            "showbackground": true,
            "ticks": "",
            "zerolinecolor": "white"
           },
           "yaxis": {
            "backgroundcolor": "#E5ECF6",
            "gridcolor": "white",
            "gridwidth": 2,
            "linecolor": "white",
            "showbackground": true,
            "ticks": "",
            "zerolinecolor": "white"
           },
           "zaxis": {
            "backgroundcolor": "#E5ECF6",
            "gridcolor": "white",
            "gridwidth": 2,
            "linecolor": "white",
            "showbackground": true,
            "ticks": "",
            "zerolinecolor": "white"
           }
          },
          "shapedefaults": {
           "line": {
            "color": "#2a3f5f"
           }
          },
          "ternary": {
           "aaxis": {
            "gridcolor": "white",
            "linecolor": "white",
            "ticks": ""
           },
           "baxis": {
            "gridcolor": "white",
            "linecolor": "white",
            "ticks": ""
           },
           "bgcolor": "#E5ECF6",
           "caxis": {
            "gridcolor": "white",
            "linecolor": "white",
            "ticks": ""
           }
          },
          "title": {
           "x": 0.05
          },
          "xaxis": {
           "automargin": true,
           "gridcolor": "white",
           "linecolor": "white",
           "ticks": "",
           "title": {
            "standoff": 15
           },
           "zerolinecolor": "white",
           "zerolinewidth": 2
          },
          "yaxis": {
           "automargin": true,
           "gridcolor": "white",
           "linecolor": "white",
           "ticks": "",
           "title": {
            "standoff": 15
           },
           "zerolinecolor": "white",
           "zerolinewidth": 2
          }
         }
        },
        "title": {
         "text": "Product Sales by Quarter"
        },
        "width": 1200,
        "xaxis": {
         "title": {
          "text": "Quarter"
         }
        },
        "yaxis": {
         "title": {
          "text": "Total Sales ($)"
         }
        }
       }
      }
     },
     "metadata": {},
     "output_type": "display_data"
    }
   ],
   "source": [
    "import plotly.graph_objs as go\n",
    "\n",
    "quarterly_sales = all_data.groupby(['Product', 'Quarter'])['Total Amount'].sum().unstack().fillna(0)\n",
    "\n",
    "fig = go.Figure()\n",
    "\n",
    "# Flags to ensure the green and red dots are only added to the legend once\n",
    "max_marker_added = False\n",
    "min_marker_added = False\n",
    "\n",
    "for product in quarterly_sales.index:\n",
    "    \n",
    "    # Get sales data for the current product\n",
    "    sales_data = quarterly_sales.loc[product]\n",
    "    \n",
    "    # Find the quarter with the highest and lowest sales\n",
    "    max_quarter = sales_data.idxmax()\n",
    "    min_quarter = sales_data.idxmin()\n",
    "    \n",
    "    # Plot the sales line\n",
    "    fig.add_trace(go.Scatter(\n",
    "        x=sales_data.index.astype(str),\n",
    "        y=sales_data.values,\n",
    "        mode='lines+markers',\n",
    "        name=product\n",
    "    ))\n",
    "    \n",
    "    # Add a marker for the highest sales\n",
    "    fig.add_trace(go.Scatter(\n",
    "        x=[max_quarter],\n",
    "        y=[sales_data[max_quarter]],\n",
    "        mode='markers',\n",
    "        marker=dict(color='green', size=10),\n",
    "        name='Max Sales' if not max_marker_added else None,\n",
    "        legendgroup='max_sales',\n",
    "        showlegend=not max_marker_added  # Only show the legend once\n",
    "    ))\n",
    "    max_marker_added = True  # Set the flag so we don't add it again\n",
    "\n",
    "    # Add a marker for the lowest sales\n",
    "    fig.add_trace(go.Scatter(\n",
    "        x=[min_quarter],\n",
    "        y=[sales_data[min_quarter]],\n",
    "        mode='markers',\n",
    "        marker=dict(color='red', size=10),\n",
    "        name='Min Sales' if not min_marker_added else None,\n",
    "        legendgroup='min_sales',\n",
    "        showlegend=not min_marker_added  # Only show the legend once\n",
    "    ))\n",
    "    min_marker_added = True  # Set the flag so we don't add it again\n",
    "\n",
    "# Update layout with black background and increased size\n",
    "fig.update_layout(\n",
    "    title=\"Product Sales by Quarter\",\n",
    "    xaxis_title=\"Quarter\",\n",
    "    yaxis_title=\"Total Sales ($)\",\n",
    "    hovermode=\"x unified\",\n",
    "    legend_title=\"Legend\",\n",
    "    plot_bgcolor='black',\n",
    "    paper_bgcolor='black',\n",
    "    font=dict(color='white'),\n",
    "    width=1200,  \n",
    "    height=600   \n",
    ")\n",
    "\n",
    "fig.show()\n",
    "\n"
   ]
  },
  {
   "cell_type": "markdown",
   "metadata": {},
   "source": [
    "**Key Findings**:\n",
    "\n",
    "- We can see that all products except one had their **best selling** sales in **Q4** while the **lowest selling Quarters** were shared between **Q1 and Q3.**\n"
   ]
  }
 ],
 "metadata": {
  "kernelspec": {
   "display_name": "Python 3",
   "language": "python",
   "name": "python3"
  },
  "language_info": {
   "codemirror_mode": {
    "name": "ipython",
    "version": 3
   },
   "file_extension": ".py",
   "mimetype": "text/x-python",
   "name": "python",
   "nbconvert_exporter": "python",
   "pygments_lexer": "ipython3",
   "version": "3.10.8"
  }
 },
 "nbformat": 4,
 "nbformat_minor": 2
}
